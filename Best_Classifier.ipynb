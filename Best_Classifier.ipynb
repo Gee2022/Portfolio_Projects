{
 "cells": [
  {
   "cell_type": "markdown",
   "metadata": {},
   "source": [
    "<center><h2> The Best Classifier</h2> </center>"
   ]
  },
  {
   "cell_type": "markdown",
   "metadata": {},
   "source": [
    "The objective of this project is to build a classifier to predict whether a loan case will be paid off or not. \\\n",
    "Different classification algorithms are applied to find the best one for this specific dataset by accuracy evaluation methods.\n",
    "\n",
    "\n",
    "#### Dataset Information\n",
    "\n",
    "The dataset is about 401 customers whose loans are already paid off or defaulted. It includes the following fields:\n",
    "\n",
    "| Field | Description|\n",
    "| ----- | ---------- |\n",
    "|Loan_status|\tWhether a loan is paid off on in collection|\n",
    "|Principal|\tBasic principal loan amount|\n",
    "|Terms|\tOrigination terms which can be weekly (7 days), biweekly, and monthly payoff schedule|\n",
    "|Effective_date| When the loan got originated and took effects|\n",
    "|Due_date|\tSince it’s one-time payoff schedule, each loan has one single due date|\n",
    "|Age| Age of applicant|\n",
    "|Education|\tEducation of applicant|\n",
    "|Gender| The gender of applicant|\n",
    "\n"
   ]
  },
  {
   "cell_type": "markdown",
   "metadata": {},
   "source": [
    "#### Load required libraries:"
   ]
  },
  {
   "cell_type": "code",
   "execution_count": 200,
   "metadata": {},
   "outputs": [
    {
     "name": "stdout",
     "output_type": "stream",
     "text": [
      "Note: you may need to restart the kernel to use updated packages.\n"
     ]
    },
    {
     "name": "stderr",
     "output_type": "stream",
     "text": [
      "'c:\\Users\\Gerald\\Desktop\\python' is not recognized as an internal or external command,\n",
      "operable program or batch file.\n"
     ]
    }
   ],
   "source": [
    "%pip install matplotlib scikit-learn"
   ]
  },
  {
   "cell_type": "code",
   "execution_count": 201,
   "metadata": {},
   "outputs": [],
   "source": [
    "import itertools\n",
    "import numpy as np\n",
    "import matplotlib.pyplot as plt\n",
    "from matplotlib.ticker import NullFormatter\n",
    "import pandas as pd\n",
    "import numpy as np\n",
    "import matplotlib.ticker as ticker\n",
    "from sklearn import preprocessing\n",
    "%matplotlib inline"
   ]
  },
  {
   "cell_type": "markdown",
   "metadata": {},
   "source": [
    "#### Load Data From CSV File\n"
   ]
  },
  {
   "cell_type": "code",
   "execution_count": 202,
   "metadata": {},
   "outputs": [
    {
     "data": {
      "text/html": [
       "<div>\n",
       "<style scoped>\n",
       "    .dataframe tbody tr th:only-of-type {\n",
       "        vertical-align: middle;\n",
       "    }\n",
       "\n",
       "    .dataframe tbody tr th {\n",
       "        vertical-align: top;\n",
       "    }\n",
       "\n",
       "    .dataframe thead th {\n",
       "        text-align: right;\n",
       "    }\n",
       "</style>\n",
       "<table border=\"1\" class=\"dataframe\">\n",
       "  <thead>\n",
       "    <tr style=\"text-align: right;\">\n",
       "      <th></th>\n",
       "      <th>Unnamed: 0</th>\n",
       "      <th>Unnamed: 0.1</th>\n",
       "      <th>loan_status</th>\n",
       "      <th>Principal</th>\n",
       "      <th>terms</th>\n",
       "      <th>effective_date</th>\n",
       "      <th>due_date</th>\n",
       "      <th>age</th>\n",
       "      <th>education</th>\n",
       "      <th>Gender</th>\n",
       "    </tr>\n",
       "  </thead>\n",
       "  <tbody>\n",
       "    <tr>\n",
       "      <th>0</th>\n",
       "      <td>0</td>\n",
       "      <td>0</td>\n",
       "      <td>PAIDOFF</td>\n",
       "      <td>1000</td>\n",
       "      <td>30</td>\n",
       "      <td>9/8/2016</td>\n",
       "      <td>10/7/2016</td>\n",
       "      <td>45</td>\n",
       "      <td>High School or Below</td>\n",
       "      <td>male</td>\n",
       "    </tr>\n",
       "    <tr>\n",
       "      <th>1</th>\n",
       "      <td>2</td>\n",
       "      <td>2</td>\n",
       "      <td>PAIDOFF</td>\n",
       "      <td>1000</td>\n",
       "      <td>30</td>\n",
       "      <td>9/8/2016</td>\n",
       "      <td>10/7/2016</td>\n",
       "      <td>33</td>\n",
       "      <td>Bechalor</td>\n",
       "      <td>female</td>\n",
       "    </tr>\n",
       "    <tr>\n",
       "      <th>2</th>\n",
       "      <td>3</td>\n",
       "      <td>3</td>\n",
       "      <td>PAIDOFF</td>\n",
       "      <td>1000</td>\n",
       "      <td>15</td>\n",
       "      <td>9/8/2016</td>\n",
       "      <td>9/22/2016</td>\n",
       "      <td>27</td>\n",
       "      <td>college</td>\n",
       "      <td>male</td>\n",
       "    </tr>\n",
       "    <tr>\n",
       "      <th>3</th>\n",
       "      <td>4</td>\n",
       "      <td>4</td>\n",
       "      <td>PAIDOFF</td>\n",
       "      <td>1000</td>\n",
       "      <td>30</td>\n",
       "      <td>9/9/2016</td>\n",
       "      <td>10/8/2016</td>\n",
       "      <td>28</td>\n",
       "      <td>college</td>\n",
       "      <td>female</td>\n",
       "    </tr>\n",
       "    <tr>\n",
       "      <th>4</th>\n",
       "      <td>6</td>\n",
       "      <td>6</td>\n",
       "      <td>PAIDOFF</td>\n",
       "      <td>1000</td>\n",
       "      <td>30</td>\n",
       "      <td>9/9/2016</td>\n",
       "      <td>10/8/2016</td>\n",
       "      <td>29</td>\n",
       "      <td>college</td>\n",
       "      <td>male</td>\n",
       "    </tr>\n",
       "  </tbody>\n",
       "</table>\n",
       "</div>"
      ],
      "text/plain": [
       "   Unnamed: 0  Unnamed: 0.1 loan_status  Principal  terms effective_date  \\\n",
       "0           0             0     PAIDOFF       1000     30       9/8/2016   \n",
       "1           2             2     PAIDOFF       1000     30       9/8/2016   \n",
       "2           3             3     PAIDOFF       1000     15       9/8/2016   \n",
       "3           4             4     PAIDOFF       1000     30       9/9/2016   \n",
       "4           6             6     PAIDOFF       1000     30       9/9/2016   \n",
       "\n",
       "    due_date  age             education  Gender  \n",
       "0  10/7/2016   45  High School or Below    male  \n",
       "1  10/7/2016   33              Bechalor  female  \n",
       "2  9/22/2016   27               college    male  \n",
       "3  10/8/2016   28               college  female  \n",
       "4  10/8/2016   29               college    male  "
      ]
     },
     "execution_count": 202,
     "metadata": {},
     "output_type": "execute_result"
    }
   ],
   "source": [
    "df = pd.read_csv('loan_train.csv')\n",
    "df.head()"
   ]
  },
  {
   "cell_type": "markdown",
   "metadata": {},
   "source": [
    "#### Data cleaning"
   ]
  },
  {
   "cell_type": "markdown",
   "metadata": {},
   "source": [
    "Let's get rid of the unnamed columns"
   ]
  },
  {
   "cell_type": "code",
   "execution_count": 203,
   "metadata": {},
   "outputs": [
    {
     "data": {
      "text/plain": [
       "(346, 8)"
      ]
     },
     "execution_count": 203,
     "metadata": {},
     "output_type": "execute_result"
    }
   ],
   "source": [
    "df = df[['loan_status', 'Principal', 'terms', 'effective_date', 'due_date', 'age', 'education', 'Gender']]\n",
    "df.shape"
   ]
  },
  {
   "cell_type": "markdown",
   "metadata": {},
   "source": [
    "Drop duplicate rows if there are any"
   ]
  },
  {
   "cell_type": "code",
   "execution_count": 204,
   "metadata": {},
   "outputs": [
    {
     "data": {
      "text/plain": [
       "(346, 8)"
      ]
     },
     "execution_count": 204,
     "metadata": {},
     "output_type": "execute_result"
    }
   ],
   "source": [
    "df.drop_duplicates()\n",
    "df.shape"
   ]
  },
  {
   "cell_type": "markdown",
   "metadata": {},
   "source": [
    "Let's inspect the data types of the columns"
   ]
  },
  {
   "cell_type": "code",
   "execution_count": 205,
   "metadata": {},
   "outputs": [
    {
     "name": "stdout",
     "output_type": "stream",
     "text": [
      "loan_status       object\n",
      "Principal          int64\n",
      "terms              int64\n",
      "effective_date    object\n",
      "due_date          object\n",
      "age                int64\n",
      "education         object\n",
      "Gender            object\n",
      "dtype: object\n"
     ]
    }
   ],
   "source": [
    "print(df.dtypes)"
   ]
  },
  {
   "cell_type": "markdown",
   "metadata": {},
   "source": [
    "Convert the data type of both effective_date and due_date colums to a datetime object"
   ]
  },
  {
   "cell_type": "code",
   "execution_count": 206,
   "metadata": {},
   "outputs": [
    {
     "data": {
      "text/html": [
       "<div>\n",
       "<style scoped>\n",
       "    .dataframe tbody tr th:only-of-type {\n",
       "        vertical-align: middle;\n",
       "    }\n",
       "\n",
       "    .dataframe tbody tr th {\n",
       "        vertical-align: top;\n",
       "    }\n",
       "\n",
       "    .dataframe thead th {\n",
       "        text-align: right;\n",
       "    }\n",
       "</style>\n",
       "<table border=\"1\" class=\"dataframe\">\n",
       "  <thead>\n",
       "    <tr style=\"text-align: right;\">\n",
       "      <th></th>\n",
       "      <th>loan_status</th>\n",
       "      <th>Principal</th>\n",
       "      <th>terms</th>\n",
       "      <th>effective_date</th>\n",
       "      <th>due_date</th>\n",
       "      <th>age</th>\n",
       "      <th>education</th>\n",
       "      <th>Gender</th>\n",
       "    </tr>\n",
       "  </thead>\n",
       "  <tbody>\n",
       "    <tr>\n",
       "      <th>0</th>\n",
       "      <td>PAIDOFF</td>\n",
       "      <td>1000</td>\n",
       "      <td>30</td>\n",
       "      <td>2016-09-08</td>\n",
       "      <td>2016-10-07</td>\n",
       "      <td>45</td>\n",
       "      <td>High School or Below</td>\n",
       "      <td>male</td>\n",
       "    </tr>\n",
       "    <tr>\n",
       "      <th>1</th>\n",
       "      <td>PAIDOFF</td>\n",
       "      <td>1000</td>\n",
       "      <td>30</td>\n",
       "      <td>2016-09-08</td>\n",
       "      <td>2016-10-07</td>\n",
       "      <td>33</td>\n",
       "      <td>Bechalor</td>\n",
       "      <td>female</td>\n",
       "    </tr>\n",
       "    <tr>\n",
       "      <th>2</th>\n",
       "      <td>PAIDOFF</td>\n",
       "      <td>1000</td>\n",
       "      <td>15</td>\n",
       "      <td>2016-09-08</td>\n",
       "      <td>2016-09-22</td>\n",
       "      <td>27</td>\n",
       "      <td>college</td>\n",
       "      <td>male</td>\n",
       "    </tr>\n",
       "    <tr>\n",
       "      <th>3</th>\n",
       "      <td>PAIDOFF</td>\n",
       "      <td>1000</td>\n",
       "      <td>30</td>\n",
       "      <td>2016-09-09</td>\n",
       "      <td>2016-10-08</td>\n",
       "      <td>28</td>\n",
       "      <td>college</td>\n",
       "      <td>female</td>\n",
       "    </tr>\n",
       "    <tr>\n",
       "      <th>4</th>\n",
       "      <td>PAIDOFF</td>\n",
       "      <td>1000</td>\n",
       "      <td>30</td>\n",
       "      <td>2016-09-09</td>\n",
       "      <td>2016-10-08</td>\n",
       "      <td>29</td>\n",
       "      <td>college</td>\n",
       "      <td>male</td>\n",
       "    </tr>\n",
       "  </tbody>\n",
       "</table>\n",
       "</div>"
      ],
      "text/plain": [
       "  loan_status  Principal  terms effective_date   due_date  age  \\\n",
       "0     PAIDOFF       1000     30     2016-09-08 2016-10-07   45   \n",
       "1     PAIDOFF       1000     30     2016-09-08 2016-10-07   33   \n",
       "2     PAIDOFF       1000     15     2016-09-08 2016-09-22   27   \n",
       "3     PAIDOFF       1000     30     2016-09-09 2016-10-08   28   \n",
       "4     PAIDOFF       1000     30     2016-09-09 2016-10-08   29   \n",
       "\n",
       "              education  Gender  \n",
       "0  High School or Below    male  \n",
       "1              Bechalor  female  \n",
       "2               college    male  \n",
       "3               college  female  \n",
       "4               college    male  "
      ]
     },
     "execution_count": 206,
     "metadata": {},
     "output_type": "execute_result"
    }
   ],
   "source": [
    "df['due_date'] = pd.to_datetime(df['due_date'])\n",
    "df['effective_date'] = pd.to_datetime(df['effective_date'])\n",
    "df.head()"
   ]
  },
  {
   "cell_type": "markdown",
   "metadata": {},
   "source": [
    "We need to check if there are any missing data. "
   ]
  },
  {
   "cell_type": "code",
   "execution_count": 207,
   "metadata": {},
   "outputs": [
    {
     "name": "stdout",
     "output_type": "stream",
     "text": [
      "loan_status - 0%\n",
      "Principal - 0%\n",
      "terms - 0%\n",
      "effective_date - 0%\n",
      "due_date - 0%\n",
      "age - 0%\n",
      "education - 0%\n",
      "Gender - 0%\n"
     ]
    }
   ],
   "source": [
    "# Loop through the data and check if there is anything missing\n",
    "for col in df.columns:\n",
    "    pct_missing = np.mean(df[col].isnull())\n",
    "    print('{} - {}%'.format(col, round(pct_missing*100)))"
   ]
  },
  {
   "cell_type": "markdown",
   "metadata": {},
   "source": [
    "#### Exploratory analysis"
   ]
  },
  {
   "cell_type": "markdown",
   "metadata": {},
   "source": [
    "Let’s see how many of each class is in our data set "
   ]
  },
  {
   "cell_type": "code",
   "execution_count": 208,
   "metadata": {},
   "outputs": [
    {
     "data": {
      "text/plain": [
       "PAIDOFF       260\n",
       "COLLECTION     86\n",
       "Name: loan_status, dtype: int64"
      ]
     },
     "execution_count": 208,
     "metadata": {},
     "output_type": "execute_result"
    }
   ],
   "source": [
    "df['loan_status'].value_counts()"
   ]
  },
  {
   "cell_type": "markdown",
   "metadata": {},
   "source": [
    "260 people have paid off the loan on time while 86 have gone into collection"
   ]
  },
  {
   "cell_type": "markdown",
   "metadata": {},
   "source": [
    "Let's look at how loan status is distributed over the day of the week."
   ]
  },
  {
   "cell_type": "code",
   "execution_count": 209,
   "metadata": {},
   "outputs": [
    {
     "data": {
      "image/png": "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",
      "text/plain": [
       "<Figure size 432x216 with 2 Axes>"
      ]
     },
     "metadata": {
      "needs_background": "light"
     },
     "output_type": "display_data"
    }
   ],
   "source": [
    "import seaborn as sns\n",
    "\n",
    "df['dayofweek'] = df['effective_date'].dt.dayofweek\n",
    "bins = np.linspace(df.dayofweek.min(), df.dayofweek.max(), 10)\n",
    "g = sns.FacetGrid(df, col=\"Gender\", hue=\"loan_status\", palette=\"Set1\", col_wrap=2)\n",
    "g.map(plt.hist, 'dayofweek', bins=bins, ec=\"k\")\n",
    "g.axes[-1].legend()\n",
    "plt.show()"
   ]
  },
  {
   "cell_type": "markdown",
   "metadata": {},
   "source": [
    "The above grah shows that collections are higher at the end of the week. Let's use Feature binarization to set a threshold value less than day 4"
   ]
  },
  {
   "cell_type": "code",
   "execution_count": 210,
   "metadata": {},
   "outputs": [
    {
     "data": {
      "text/html": [
       "<div>\n",
       "<style scoped>\n",
       "    .dataframe tbody tr th:only-of-type {\n",
       "        vertical-align: middle;\n",
       "    }\n",
       "\n",
       "    .dataframe tbody tr th {\n",
       "        vertical-align: top;\n",
       "    }\n",
       "\n",
       "    .dataframe thead th {\n",
       "        text-align: right;\n",
       "    }\n",
       "</style>\n",
       "<table border=\"1\" class=\"dataframe\">\n",
       "  <thead>\n",
       "    <tr style=\"text-align: right;\">\n",
       "      <th></th>\n",
       "      <th>loan_status</th>\n",
       "      <th>Principal</th>\n",
       "      <th>terms</th>\n",
       "      <th>effective_date</th>\n",
       "      <th>due_date</th>\n",
       "      <th>age</th>\n",
       "      <th>education</th>\n",
       "      <th>Gender</th>\n",
       "      <th>dayofweek</th>\n",
       "      <th>weekend</th>\n",
       "    </tr>\n",
       "  </thead>\n",
       "  <tbody>\n",
       "    <tr>\n",
       "      <th>0</th>\n",
       "      <td>PAIDOFF</td>\n",
       "      <td>1000</td>\n",
       "      <td>30</td>\n",
       "      <td>2016-09-08</td>\n",
       "      <td>2016-10-07</td>\n",
       "      <td>45</td>\n",
       "      <td>High School or Below</td>\n",
       "      <td>male</td>\n",
       "      <td>3</td>\n",
       "      <td>0</td>\n",
       "    </tr>\n",
       "    <tr>\n",
       "      <th>1</th>\n",
       "      <td>PAIDOFF</td>\n",
       "      <td>1000</td>\n",
       "      <td>30</td>\n",
       "      <td>2016-09-08</td>\n",
       "      <td>2016-10-07</td>\n",
       "      <td>33</td>\n",
       "      <td>Bechalor</td>\n",
       "      <td>female</td>\n",
       "      <td>3</td>\n",
       "      <td>0</td>\n",
       "    </tr>\n",
       "    <tr>\n",
       "      <th>2</th>\n",
       "      <td>PAIDOFF</td>\n",
       "      <td>1000</td>\n",
       "      <td>15</td>\n",
       "      <td>2016-09-08</td>\n",
       "      <td>2016-09-22</td>\n",
       "      <td>27</td>\n",
       "      <td>college</td>\n",
       "      <td>male</td>\n",
       "      <td>3</td>\n",
       "      <td>0</td>\n",
       "    </tr>\n",
       "    <tr>\n",
       "      <th>3</th>\n",
       "      <td>PAIDOFF</td>\n",
       "      <td>1000</td>\n",
       "      <td>30</td>\n",
       "      <td>2016-09-09</td>\n",
       "      <td>2016-10-08</td>\n",
       "      <td>28</td>\n",
       "      <td>college</td>\n",
       "      <td>female</td>\n",
       "      <td>4</td>\n",
       "      <td>1</td>\n",
       "    </tr>\n",
       "    <tr>\n",
       "      <th>4</th>\n",
       "      <td>PAIDOFF</td>\n",
       "      <td>1000</td>\n",
       "      <td>30</td>\n",
       "      <td>2016-09-09</td>\n",
       "      <td>2016-10-08</td>\n",
       "      <td>29</td>\n",
       "      <td>college</td>\n",
       "      <td>male</td>\n",
       "      <td>4</td>\n",
       "      <td>1</td>\n",
       "    </tr>\n",
       "  </tbody>\n",
       "</table>\n",
       "</div>"
      ],
      "text/plain": [
       "  loan_status  Principal  terms effective_date   due_date  age  \\\n",
       "0     PAIDOFF       1000     30     2016-09-08 2016-10-07   45   \n",
       "1     PAIDOFF       1000     30     2016-09-08 2016-10-07   33   \n",
       "2     PAIDOFF       1000     15     2016-09-08 2016-09-22   27   \n",
       "3     PAIDOFF       1000     30     2016-09-09 2016-10-08   28   \n",
       "4     PAIDOFF       1000     30     2016-09-09 2016-10-08   29   \n",
       "\n",
       "              education  Gender  dayofweek  weekend  \n",
       "0  High School or Below    male          3        0  \n",
       "1              Bechalor  female          3        0  \n",
       "2               college    male          3        0  \n",
       "3               college  female          4        1  \n",
       "4               college    male          4        1  "
      ]
     },
     "execution_count": 210,
     "metadata": {},
     "output_type": "execute_result"
    }
   ],
   "source": [
    "df['weekend'] = df['dayofweek'].apply(lambda x: 1 if (x>3)  else 0)\n",
    "df.head()"
   ]
  },
  {
   "cell_type": "markdown",
   "metadata": {},
   "source": [
    "Let's look at the value counts of the categorical features"
   ]
  },
  {
   "cell_type": "code",
   "execution_count": 211,
   "metadata": {},
   "outputs": [
    {
     "data": {
      "text/plain": [
       "Gender  loan_status\n",
       "female  PAIDOFF        0.865385\n",
       "        COLLECTION     0.134615\n",
       "male    PAIDOFF        0.731293\n",
       "        COLLECTION     0.268707\n",
       "Name: loan_status, dtype: float64"
      ]
     },
     "execution_count": 211,
     "metadata": {},
     "output_type": "execute_result"
    }
   ],
   "source": [
    "# Let's look at gender\n",
    "\n",
    "df.groupby(['Gender'])['loan_status'].value_counts(normalize=True)"
   ]
  },
  {
   "cell_type": "markdown",
   "metadata": {},
   "source": [
    "86 % of female pay their loans while only 73 % of males pay their  loan"
   ]
  },
  {
   "cell_type": "code",
   "execution_count": 212,
   "metadata": {},
   "outputs": [
    {
     "data": {
      "text/plain": [
       "education             loan_status\n",
       "Bechalor              PAIDOFF        0.750000\n",
       "                      COLLECTION     0.250000\n",
       "High School or Below  PAIDOFF        0.741722\n",
       "                      COLLECTION     0.258278\n",
       "Master or Above       COLLECTION     0.500000\n",
       "                      PAIDOFF        0.500000\n",
       "college               PAIDOFF        0.765101\n",
       "                      COLLECTION     0.234899\n",
       "Name: loan_status, dtype: float64"
      ]
     },
     "execution_count": 212,
     "metadata": {},
     "output_type": "execute_result"
    }
   ],
   "source": [
    "# Let's look at education\n",
    "\n",
    "df.groupby(['education'])['loan_status'].value_counts(normalize=True)"
   ]
  },
  {
   "cell_type": "markdown",
   "metadata": {},
   "source": [
    "Let's convert categorical features to numerical values"
   ]
  },
  {
   "cell_type": "code",
   "execution_count": 213,
   "metadata": {},
   "outputs": [
    {
     "data": {
      "text/html": [
       "<div>\n",
       "<style scoped>\n",
       "    .dataframe tbody tr th:only-of-type {\n",
       "        vertical-align: middle;\n",
       "    }\n",
       "\n",
       "    .dataframe tbody tr th {\n",
       "        vertical-align: top;\n",
       "    }\n",
       "\n",
       "    .dataframe thead th {\n",
       "        text-align: right;\n",
       "    }\n",
       "</style>\n",
       "<table border=\"1\" class=\"dataframe\">\n",
       "  <thead>\n",
       "    <tr style=\"text-align: right;\">\n",
       "      <th></th>\n",
       "      <th>loan_status</th>\n",
       "      <th>Principal</th>\n",
       "      <th>terms</th>\n",
       "      <th>effective_date</th>\n",
       "      <th>due_date</th>\n",
       "      <th>age</th>\n",
       "      <th>education</th>\n",
       "      <th>Gender</th>\n",
       "      <th>dayofweek</th>\n",
       "      <th>weekend</th>\n",
       "    </tr>\n",
       "  </thead>\n",
       "  <tbody>\n",
       "    <tr>\n",
       "      <th>0</th>\n",
       "      <td>PAIDOFF</td>\n",
       "      <td>1000</td>\n",
       "      <td>30</td>\n",
       "      <td>2016-09-08</td>\n",
       "      <td>2016-10-07</td>\n",
       "      <td>45</td>\n",
       "      <td>High School or Below</td>\n",
       "      <td>0</td>\n",
       "      <td>3</td>\n",
       "      <td>0</td>\n",
       "    </tr>\n",
       "    <tr>\n",
       "      <th>1</th>\n",
       "      <td>PAIDOFF</td>\n",
       "      <td>1000</td>\n",
       "      <td>30</td>\n",
       "      <td>2016-09-08</td>\n",
       "      <td>2016-10-07</td>\n",
       "      <td>33</td>\n",
       "      <td>Bechalor</td>\n",
       "      <td>1</td>\n",
       "      <td>3</td>\n",
       "      <td>0</td>\n",
       "    </tr>\n",
       "    <tr>\n",
       "      <th>2</th>\n",
       "      <td>PAIDOFF</td>\n",
       "      <td>1000</td>\n",
       "      <td>15</td>\n",
       "      <td>2016-09-08</td>\n",
       "      <td>2016-09-22</td>\n",
       "      <td>27</td>\n",
       "      <td>college</td>\n",
       "      <td>0</td>\n",
       "      <td>3</td>\n",
       "      <td>0</td>\n",
       "    </tr>\n",
       "    <tr>\n",
       "      <th>3</th>\n",
       "      <td>PAIDOFF</td>\n",
       "      <td>1000</td>\n",
       "      <td>30</td>\n",
       "      <td>2016-09-09</td>\n",
       "      <td>2016-10-08</td>\n",
       "      <td>28</td>\n",
       "      <td>college</td>\n",
       "      <td>1</td>\n",
       "      <td>4</td>\n",
       "      <td>1</td>\n",
       "    </tr>\n",
       "    <tr>\n",
       "      <th>4</th>\n",
       "      <td>PAIDOFF</td>\n",
       "      <td>1000</td>\n",
       "      <td>30</td>\n",
       "      <td>2016-09-09</td>\n",
       "      <td>2016-10-08</td>\n",
       "      <td>29</td>\n",
       "      <td>college</td>\n",
       "      <td>0</td>\n",
       "      <td>4</td>\n",
       "      <td>1</td>\n",
       "    </tr>\n",
       "  </tbody>\n",
       "</table>\n",
       "</div>"
      ],
      "text/plain": [
       "  loan_status  Principal  terms effective_date   due_date  age  \\\n",
       "0     PAIDOFF       1000     30     2016-09-08 2016-10-07   45   \n",
       "1     PAIDOFF       1000     30     2016-09-08 2016-10-07   33   \n",
       "2     PAIDOFF       1000     15     2016-09-08 2016-09-22   27   \n",
       "3     PAIDOFF       1000     30     2016-09-09 2016-10-08   28   \n",
       "4     PAIDOFF       1000     30     2016-09-09 2016-10-08   29   \n",
       "\n",
       "              education  Gender  dayofweek  weekend  \n",
       "0  High School or Below       0          3        0  \n",
       "1              Bechalor       1          3        0  \n",
       "2               college       0          3        0  \n",
       "3               college       1          4        1  \n",
       "4               college       0          4        1  "
      ]
     },
     "execution_count": 213,
     "metadata": {},
     "output_type": "execute_result"
    }
   ],
   "source": [
    "#  convert male to 0 and female to 1\n",
    "\n",
    "df['Gender'].replace(to_replace=['male','female'], value=[0,1],inplace=True)\n",
    "df.head()"
   ]
  },
  {
   "cell_type": "markdown",
   "metadata": {},
   "source": [
    "Next, we use one hot encoding technique to conver categorical varables to binary variables and append them to the feature dataframe. "
   ]
  },
  {
   "cell_type": "code",
   "execution_count": 214,
   "metadata": {},
   "outputs": [
    {
     "data": {
      "text/html": [
       "<div>\n",
       "<style scoped>\n",
       "    .dataframe tbody tr th:only-of-type {\n",
       "        vertical-align: middle;\n",
       "    }\n",
       "\n",
       "    .dataframe tbody tr th {\n",
       "        vertical-align: top;\n",
       "    }\n",
       "\n",
       "    .dataframe thead th {\n",
       "        text-align: right;\n",
       "    }\n",
       "</style>\n",
       "<table border=\"1\" class=\"dataframe\">\n",
       "  <thead>\n",
       "    <tr style=\"text-align: right;\">\n",
       "      <th></th>\n",
       "      <th>Principal</th>\n",
       "      <th>terms</th>\n",
       "      <th>age</th>\n",
       "      <th>Gender</th>\n",
       "      <th>weekend</th>\n",
       "      <th>Bechalor</th>\n",
       "      <th>High School or Below</th>\n",
       "      <th>college</th>\n",
       "    </tr>\n",
       "  </thead>\n",
       "  <tbody>\n",
       "    <tr>\n",
       "      <th>0</th>\n",
       "      <td>1000</td>\n",
       "      <td>30</td>\n",
       "      <td>45</td>\n",
       "      <td>0</td>\n",
       "      <td>0</td>\n",
       "      <td>0</td>\n",
       "      <td>1</td>\n",
       "      <td>0</td>\n",
       "    </tr>\n",
       "    <tr>\n",
       "      <th>1</th>\n",
       "      <td>1000</td>\n",
       "      <td>30</td>\n",
       "      <td>33</td>\n",
       "      <td>1</td>\n",
       "      <td>0</td>\n",
       "      <td>1</td>\n",
       "      <td>0</td>\n",
       "      <td>0</td>\n",
       "    </tr>\n",
       "    <tr>\n",
       "      <th>2</th>\n",
       "      <td>1000</td>\n",
       "      <td>15</td>\n",
       "      <td>27</td>\n",
       "      <td>0</td>\n",
       "      <td>0</td>\n",
       "      <td>0</td>\n",
       "      <td>0</td>\n",
       "      <td>1</td>\n",
       "    </tr>\n",
       "    <tr>\n",
       "      <th>3</th>\n",
       "      <td>1000</td>\n",
       "      <td>30</td>\n",
       "      <td>28</td>\n",
       "      <td>1</td>\n",
       "      <td>1</td>\n",
       "      <td>0</td>\n",
       "      <td>0</td>\n",
       "      <td>1</td>\n",
       "    </tr>\n",
       "    <tr>\n",
       "      <th>4</th>\n",
       "      <td>1000</td>\n",
       "      <td>30</td>\n",
       "      <td>29</td>\n",
       "      <td>0</td>\n",
       "      <td>1</td>\n",
       "      <td>0</td>\n",
       "      <td>0</td>\n",
       "      <td>1</td>\n",
       "    </tr>\n",
       "  </tbody>\n",
       "</table>\n",
       "</div>"
      ],
      "text/plain": [
       "   Principal  terms  age  Gender  weekend  Bechalor  High School or Below  \\\n",
       "0       1000     30   45       0        0         0                     1   \n",
       "1       1000     30   33       1        0         1                     0   \n",
       "2       1000     15   27       0        0         0                     0   \n",
       "3       1000     30   28       1        1         0                     0   \n",
       "4       1000     30   29       0        1         0                     0   \n",
       "\n",
       "   college  \n",
       "0        0  \n",
       "1        0  \n",
       "2        1  \n",
       "3        1  \n",
       "4        1  "
      ]
     },
     "execution_count": 214,
     "metadata": {},
     "output_type": "execute_result"
    }
   ],
   "source": [
    "Feature = df[['Principal','terms','age','Gender','weekend']]\n",
    "Feature = pd.concat([Feature,pd.get_dummies(df['education'])], axis=1)\n",
    "Feature.drop(['Master or Above'], axis = 1,inplace=True)\n",
    "Feature.head()"
   ]
  },
  {
   "cell_type": "markdown",
   "metadata": {},
   "source": [
    "Since 50% of Master or Above education category pay their loan and 50% don't, it wouldn't be a good predictor; so it was dropped."
   ]
  },
  {
   "cell_type": "markdown",
   "metadata": {},
   "source": [
    "#### Feature selection\n"
   ]
  },
  {
   "cell_type": "code",
   "execution_count": 215,
   "metadata": {},
   "outputs": [
    {
     "data": {
      "text/html": [
       "<div>\n",
       "<style scoped>\n",
       "    .dataframe tbody tr th:only-of-type {\n",
       "        vertical-align: middle;\n",
       "    }\n",
       "\n",
       "    .dataframe tbody tr th {\n",
       "        vertical-align: top;\n",
       "    }\n",
       "\n",
       "    .dataframe thead th {\n",
       "        text-align: right;\n",
       "    }\n",
       "</style>\n",
       "<table border=\"1\" class=\"dataframe\">\n",
       "  <thead>\n",
       "    <tr style=\"text-align: right;\">\n",
       "      <th></th>\n",
       "      <th>Principal</th>\n",
       "      <th>terms</th>\n",
       "      <th>age</th>\n",
       "      <th>Gender</th>\n",
       "      <th>weekend</th>\n",
       "      <th>Bechalor</th>\n",
       "      <th>High School or Below</th>\n",
       "      <th>college</th>\n",
       "    </tr>\n",
       "  </thead>\n",
       "  <tbody>\n",
       "    <tr>\n",
       "      <th>0</th>\n",
       "      <td>1000</td>\n",
       "      <td>30</td>\n",
       "      <td>45</td>\n",
       "      <td>0</td>\n",
       "      <td>0</td>\n",
       "      <td>0</td>\n",
       "      <td>1</td>\n",
       "      <td>0</td>\n",
       "    </tr>\n",
       "    <tr>\n",
       "      <th>1</th>\n",
       "      <td>1000</td>\n",
       "      <td>30</td>\n",
       "      <td>33</td>\n",
       "      <td>1</td>\n",
       "      <td>0</td>\n",
       "      <td>1</td>\n",
       "      <td>0</td>\n",
       "      <td>0</td>\n",
       "    </tr>\n",
       "    <tr>\n",
       "      <th>2</th>\n",
       "      <td>1000</td>\n",
       "      <td>15</td>\n",
       "      <td>27</td>\n",
       "      <td>0</td>\n",
       "      <td>0</td>\n",
       "      <td>0</td>\n",
       "      <td>0</td>\n",
       "      <td>1</td>\n",
       "    </tr>\n",
       "    <tr>\n",
       "      <th>3</th>\n",
       "      <td>1000</td>\n",
       "      <td>30</td>\n",
       "      <td>28</td>\n",
       "      <td>1</td>\n",
       "      <td>1</td>\n",
       "      <td>0</td>\n",
       "      <td>0</td>\n",
       "      <td>1</td>\n",
       "    </tr>\n",
       "    <tr>\n",
       "      <th>4</th>\n",
       "      <td>1000</td>\n",
       "      <td>30</td>\n",
       "      <td>29</td>\n",
       "      <td>0</td>\n",
       "      <td>1</td>\n",
       "      <td>0</td>\n",
       "      <td>0</td>\n",
       "      <td>1</td>\n",
       "    </tr>\n",
       "  </tbody>\n",
       "</table>\n",
       "</div>"
      ],
      "text/plain": [
       "   Principal  terms  age  Gender  weekend  Bechalor  High School or Below  \\\n",
       "0       1000     30   45       0        0         0                     1   \n",
       "1       1000     30   33       1        0         1                     0   \n",
       "2       1000     15   27       0        0         0                     0   \n",
       "3       1000     30   28       1        1         0                     0   \n",
       "4       1000     30   29       0        1         0                     0   \n",
       "\n",
       "   college  \n",
       "0        0  \n",
       "1        0  \n",
       "2        1  \n",
       "3        1  \n",
       "4        1  "
      ]
     },
     "execution_count": 215,
     "metadata": {},
     "output_type": "execute_result"
    }
   ],
   "source": [
    "# Let's define feature matrix, X:\n",
    "\n",
    "X = Feature\n",
    "X[0:5]"
   ]
  },
  {
   "cell_type": "code",
   "execution_count": 216,
   "metadata": {},
   "outputs": [
    {
     "data": {
      "text/plain": [
       "array(['PAIDOFF', 'PAIDOFF', 'PAIDOFF', 'PAIDOFF', 'PAIDOFF'],\n",
       "      dtype=object)"
      ]
     },
     "execution_count": 216,
     "metadata": {},
     "output_type": "execute_result"
    }
   ],
   "source": [
    "# Let's define our lables vector\n",
    "\n",
    "y = df['loan_status'].values\n",
    "y[0:5]"
   ]
  },
  {
   "cell_type": "markdown",
   "metadata": {},
   "source": [
    "####  Data Standardization\n",
    "\n",
    " To give the data zero mean and unit variance (technically should be done after train test split)"
   ]
  },
  {
   "cell_type": "code",
   "execution_count": 217,
   "metadata": {},
   "outputs": [
    {
     "data": {
      "text/plain": [
       "array([[ 0.51578458,  0.92071769,  2.33152555, -0.42056004, -1.20577805,\n",
       "        -0.38170062,  1.13639374, -0.86968108],\n",
       "       [ 0.51578458,  0.92071769,  0.34170148,  2.37778177, -1.20577805,\n",
       "         2.61985426, -0.87997669, -0.86968108],\n",
       "       [ 0.51578458, -0.95911111, -0.65321055, -0.42056004, -1.20577805,\n",
       "        -0.38170062, -0.87997669,  1.14984679],\n",
       "       [ 0.51578458,  0.92071769, -0.48739188,  2.37778177,  0.82934003,\n",
       "        -0.38170062, -0.87997669,  1.14984679],\n",
       "       [ 0.51578458,  0.92071769, -0.3215732 , -0.42056004,  0.82934003,\n",
       "        -0.38170062, -0.87997669,  1.14984679]])"
      ]
     },
     "execution_count": 217,
     "metadata": {},
     "output_type": "execute_result"
    }
   ],
   "source": [
    "X= preprocessing.StandardScaler().fit(X).transform(X)\n",
    "X[0:5]"
   ]
  },
  {
   "cell_type": "markdown",
   "metadata": {},
   "source": [
    "####  Model Building using Training set \n",
    "\n",
    "We will use the training set to build four classification models for predicting loan_status \n"
   ]
  },
  {
   "cell_type": "markdown",
   "metadata": {},
   "source": [
    "#### 1) K Nearest Neighbor(KNN)"
   ]
  },
  {
   "cell_type": "markdown",
   "metadata": {},
   "source": [
    "We have to find the best k to build the model with the best accuracy. to achive this, we will further split the training data into train and test sets.\n"
   ]
  },
  {
   "cell_type": "code",
   "execution_count": 218,
   "metadata": {},
   "outputs": [
    {
     "name": "stdout",
     "output_type": "stream",
     "text": [
      "Train set: (276, 8) (276,)\n",
      "Test set: (70, 8) (70,)\n"
     ]
    }
   ],
   "source": [
    "# Let's set up a 80-20 % train-test split of the train_loan.csv data to find the best K.\n",
    "\n",
    "from sklearn.model_selection import train_test_split\n",
    "X_train, X_test, y_train, y_test = train_test_split( X, y, test_size=0.2, random_state=4)\n",
    "print ('Train set:', X_train.shape,  y_train.shape)\n",
    "print ('Test set:', X_test.shape,  y_test.shape)"
   ]
  },
  {
   "cell_type": "markdown",
   "metadata": {},
   "source": [
    "We need classifier implementing the k-nearest neighbors vote. For this we have to import the library."
   ]
  },
  {
   "cell_type": "code",
   "execution_count": 219,
   "metadata": {},
   "outputs": [],
   "source": [
    "from sklearn.neighbors import KNeighborsClassifier"
   ]
  },
  {
   "cell_type": "markdown",
   "metadata": {},
   "source": [
    "Now, we can find the best k to build the model with the best accuracy."
   ]
  },
  {
   "cell_type": "code",
   "execution_count": 220,
   "metadata": {},
   "outputs": [
    {
     "data": {
      "text/plain": [
       "array([0.65714286, 0.58571429, 0.74285714, 0.7       , 0.74285714,\n",
       "       0.71428571, 0.78571429, 0.75714286, 0.75714286, 0.68571429,\n",
       "       0.71428571, 0.72857143, 0.7       , 0.68571429])"
      ]
     },
     "execution_count": 220,
     "metadata": {},
     "output_type": "execute_result"
    }
   ],
   "source": [
    "from sklearn import metrics\n",
    "\n",
    "Ks = 15\n",
    "mean_acc = np.zeros((Ks-1))\n",
    "std_acc = np.zeros((Ks-1))\n",
    "\n",
    "for n in range(1,Ks):\n",
    "    \n",
    "    #Train Model and Predict  \n",
    "    neigh = KNeighborsClassifier(n_neighbors = n).fit(X_train,y_train)\n",
    "    yhat=neigh.predict(X_test)\n",
    "    mean_acc[n-1] = metrics.accuracy_score(y_test, yhat)\n",
    "\n",
    "    \n",
    "    std_acc[n-1]=np.std(yhat==y_test)/np.sqrt(yhat.shape[0])\n",
    "\n",
    "mean_acc"
   ]
  },
  {
   "cell_type": "markdown",
   "metadata": {},
   "source": [
    "Let's plot the result of the model accuracy for the different number of neighbors."
   ]
  },
  {
   "cell_type": "code",
   "execution_count": 221,
   "metadata": {},
   "outputs": [
    {
     "data": {
      "image/png": "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",
      "text/plain": [
       "<Figure size 432x288 with 1 Axes>"
      ]
     },
     "metadata": {
      "needs_background": "light"
     },
     "output_type": "display_data"
    },
    {
     "name": "stdout",
     "output_type": "stream",
     "text": [
      "The best accuracy is 0.7857142857142857 with k= 7\n"
     ]
    }
   ],
   "source": [
    "plt.plot(range(1,Ks),mean_acc,'g')\n",
    "plt.fill_between(range(1,Ks),mean_acc - 1 * std_acc,mean_acc + 1 * std_acc, alpha=0.10)\n",
    "plt.fill_between(range(1,Ks),mean_acc - 3 * std_acc,mean_acc + 3 * std_acc, alpha=0.10,color=\"green\")\n",
    "plt.legend(('Accuracy ', '+/- 1xstd','+/- 3xstd'))\n",
    "plt.ylabel('Accuracy ')\n",
    "plt.xlabel('Number of Neighbors (K)')\n",
    "plt.tight_layout()\n",
    "plt.show()\n",
    "\n",
    "print( \"The best accuracy is\", mean_acc.max(), \"with k=\", mean_acc.argmax()+1) "
   ]
  },
  {
   "cell_type": "markdown",
   "metadata": {},
   "source": [
    "So now we can build the model, using the entire train_loan.csv data, with K= 7"
   ]
  },
  {
   "cell_type": "code",
   "execution_count": 222,
   "metadata": {},
   "outputs": [
    {
     "data": {
      "text/html": [
       "<style>#sk-container-id-21 {color: black;background-color: white;}#sk-container-id-21 pre{padding: 0;}#sk-container-id-21 div.sk-toggleable {background-color: white;}#sk-container-id-21 label.sk-toggleable__label {cursor: pointer;display: block;width: 100%;margin-bottom: 0;padding: 0.3em;box-sizing: border-box;text-align: center;}#sk-container-id-21 label.sk-toggleable__label-arrow:before {content: \"▸\";float: left;margin-right: 0.25em;color: #696969;}#sk-container-id-21 label.sk-toggleable__label-arrow:hover:before {color: black;}#sk-container-id-21 div.sk-estimator:hover label.sk-toggleable__label-arrow:before {color: black;}#sk-container-id-21 div.sk-toggleable__content {max-height: 0;max-width: 0;overflow: hidden;text-align: left;background-color: #f0f8ff;}#sk-container-id-21 div.sk-toggleable__content pre {margin: 0.2em;color: black;border-radius: 0.25em;background-color: #f0f8ff;}#sk-container-id-21 input.sk-toggleable__control:checked~div.sk-toggleable__content {max-height: 200px;max-width: 100%;overflow: auto;}#sk-container-id-21 input.sk-toggleable__control:checked~label.sk-toggleable__label-arrow:before {content: \"▾\";}#sk-container-id-21 div.sk-estimator input.sk-toggleable__control:checked~label.sk-toggleable__label {background-color: #d4ebff;}#sk-container-id-21 div.sk-label input.sk-toggleable__control:checked~label.sk-toggleable__label {background-color: #d4ebff;}#sk-container-id-21 input.sk-hidden--visually {border: 0;clip: rect(1px 1px 1px 1px);clip: rect(1px, 1px, 1px, 1px);height: 1px;margin: -1px;overflow: hidden;padding: 0;position: absolute;width: 1px;}#sk-container-id-21 div.sk-estimator {font-family: monospace;background-color: #f0f8ff;border: 1px dotted black;border-radius: 0.25em;box-sizing: border-box;margin-bottom: 0.5em;}#sk-container-id-21 div.sk-estimator:hover {background-color: #d4ebff;}#sk-container-id-21 div.sk-parallel-item::after {content: \"\";width: 100%;border-bottom: 1px solid gray;flex-grow: 1;}#sk-container-id-21 div.sk-label:hover label.sk-toggleable__label {background-color: #d4ebff;}#sk-container-id-21 div.sk-serial::before {content: \"\";position: absolute;border-left: 1px solid gray;box-sizing: border-box;top: 0;bottom: 0;left: 50%;z-index: 0;}#sk-container-id-21 div.sk-serial {display: flex;flex-direction: column;align-items: center;background-color: white;padding-right: 0.2em;padding-left: 0.2em;position: relative;}#sk-container-id-21 div.sk-item {position: relative;z-index: 1;}#sk-container-id-21 div.sk-parallel {display: flex;align-items: stretch;justify-content: center;background-color: white;position: relative;}#sk-container-id-21 div.sk-item::before, #sk-container-id-21 div.sk-parallel-item::before {content: \"\";position: absolute;border-left: 1px solid gray;box-sizing: border-box;top: 0;bottom: 0;left: 50%;z-index: -1;}#sk-container-id-21 div.sk-parallel-item {display: flex;flex-direction: column;z-index: 1;position: relative;background-color: white;}#sk-container-id-21 div.sk-parallel-item:first-child::after {align-self: flex-end;width: 50%;}#sk-container-id-21 div.sk-parallel-item:last-child::after {align-self: flex-start;width: 50%;}#sk-container-id-21 div.sk-parallel-item:only-child::after {width: 0;}#sk-container-id-21 div.sk-dashed-wrapped {border: 1px dashed gray;margin: 0 0.4em 0.5em 0.4em;box-sizing: border-box;padding-bottom: 0.4em;background-color: white;}#sk-container-id-21 div.sk-label label {font-family: monospace;font-weight: bold;display: inline-block;line-height: 1.2em;}#sk-container-id-21 div.sk-label-container {text-align: center;}#sk-container-id-21 div.sk-container {/* jupyter's `normalize.less` sets `[hidden] { display: none; }` but bootstrap.min.css set `[hidden] { display: none !important; }` so we also need the `!important` here to be able to override the default hidden behavior on the sphinx rendered scikit-learn.org. See: https://github.com/scikit-learn/scikit-learn/issues/21755 */display: inline-block !important;position: relative;}#sk-container-id-21 div.sk-text-repr-fallback {display: none;}</style><div id=\"sk-container-id-21\" class=\"sk-top-container\"><div class=\"sk-text-repr-fallback\"><pre>KNeighborsClassifier(n_neighbors=7)</pre><b>In a Jupyter environment, please rerun this cell to show the HTML representation or trust the notebook. <br />On GitHub, the HTML representation is unable to render, please try loading this page with nbviewer.org.</b></div><div class=\"sk-container\" hidden><div class=\"sk-item\"><div class=\"sk-estimator sk-toggleable\"><input class=\"sk-toggleable__control sk-hidden--visually\" id=\"sk-estimator-id-21\" type=\"checkbox\" checked><label for=\"sk-estimator-id-21\" class=\"sk-toggleable__label sk-toggleable__label-arrow\">KNeighborsClassifier</label><div class=\"sk-toggleable__content\"><pre>KNeighborsClassifier(n_neighbors=7)</pre></div></div></div></div></div>"
      ],
      "text/plain": [
       "KNeighborsClassifier(n_neighbors=7)"
      ]
     },
     "execution_count": 222,
     "metadata": {},
     "output_type": "execute_result"
    }
   ],
   "source": [
    "k = 7\n",
    "neigh7 = KNeighborsClassifier(n_neighbors = k).fit(X, y)\n",
    "neigh7"
   ]
  },
  {
   "cell_type": "markdown",
   "metadata": {},
   "source": [
    "#### 2) Decision Tree"
   ]
  },
  {
   "cell_type": "markdown",
   "metadata": {},
   "source": [
    "First, we have to create an instance of the DecisionTreeClassifier called loanTree."
   ]
  },
  {
   "cell_type": "code",
   "execution_count": 223,
   "metadata": {},
   "outputs": [
    {
     "data": {
      "text/html": [
       "<style>#sk-container-id-22 {color: black;background-color: white;}#sk-container-id-22 pre{padding: 0;}#sk-container-id-22 div.sk-toggleable {background-color: white;}#sk-container-id-22 label.sk-toggleable__label {cursor: pointer;display: block;width: 100%;margin-bottom: 0;padding: 0.3em;box-sizing: border-box;text-align: center;}#sk-container-id-22 label.sk-toggleable__label-arrow:before {content: \"▸\";float: left;margin-right: 0.25em;color: #696969;}#sk-container-id-22 label.sk-toggleable__label-arrow:hover:before {color: black;}#sk-container-id-22 div.sk-estimator:hover label.sk-toggleable__label-arrow:before {color: black;}#sk-container-id-22 div.sk-toggleable__content {max-height: 0;max-width: 0;overflow: hidden;text-align: left;background-color: #f0f8ff;}#sk-container-id-22 div.sk-toggleable__content pre {margin: 0.2em;color: black;border-radius: 0.25em;background-color: #f0f8ff;}#sk-container-id-22 input.sk-toggleable__control:checked~div.sk-toggleable__content {max-height: 200px;max-width: 100%;overflow: auto;}#sk-container-id-22 input.sk-toggleable__control:checked~label.sk-toggleable__label-arrow:before {content: \"▾\";}#sk-container-id-22 div.sk-estimator input.sk-toggleable__control:checked~label.sk-toggleable__label {background-color: #d4ebff;}#sk-container-id-22 div.sk-label input.sk-toggleable__control:checked~label.sk-toggleable__label {background-color: #d4ebff;}#sk-container-id-22 input.sk-hidden--visually {border: 0;clip: rect(1px 1px 1px 1px);clip: rect(1px, 1px, 1px, 1px);height: 1px;margin: -1px;overflow: hidden;padding: 0;position: absolute;width: 1px;}#sk-container-id-22 div.sk-estimator {font-family: monospace;background-color: #f0f8ff;border: 1px dotted black;border-radius: 0.25em;box-sizing: border-box;margin-bottom: 0.5em;}#sk-container-id-22 div.sk-estimator:hover {background-color: #d4ebff;}#sk-container-id-22 div.sk-parallel-item::after {content: \"\";width: 100%;border-bottom: 1px solid gray;flex-grow: 1;}#sk-container-id-22 div.sk-label:hover label.sk-toggleable__label {background-color: #d4ebff;}#sk-container-id-22 div.sk-serial::before {content: \"\";position: absolute;border-left: 1px solid gray;box-sizing: border-box;top: 0;bottom: 0;left: 50%;z-index: 0;}#sk-container-id-22 div.sk-serial {display: flex;flex-direction: column;align-items: center;background-color: white;padding-right: 0.2em;padding-left: 0.2em;position: relative;}#sk-container-id-22 div.sk-item {position: relative;z-index: 1;}#sk-container-id-22 div.sk-parallel {display: flex;align-items: stretch;justify-content: center;background-color: white;position: relative;}#sk-container-id-22 div.sk-item::before, #sk-container-id-22 div.sk-parallel-item::before {content: \"\";position: absolute;border-left: 1px solid gray;box-sizing: border-box;top: 0;bottom: 0;left: 50%;z-index: -1;}#sk-container-id-22 div.sk-parallel-item {display: flex;flex-direction: column;z-index: 1;position: relative;background-color: white;}#sk-container-id-22 div.sk-parallel-item:first-child::after {align-self: flex-end;width: 50%;}#sk-container-id-22 div.sk-parallel-item:last-child::after {align-self: flex-start;width: 50%;}#sk-container-id-22 div.sk-parallel-item:only-child::after {width: 0;}#sk-container-id-22 div.sk-dashed-wrapped {border: 1px dashed gray;margin: 0 0.4em 0.5em 0.4em;box-sizing: border-box;padding-bottom: 0.4em;background-color: white;}#sk-container-id-22 div.sk-label label {font-family: monospace;font-weight: bold;display: inline-block;line-height: 1.2em;}#sk-container-id-22 div.sk-label-container {text-align: center;}#sk-container-id-22 div.sk-container {/* jupyter's `normalize.less` sets `[hidden] { display: none; }` but bootstrap.min.css set `[hidden] { display: none !important; }` so we also need the `!important` here to be able to override the default hidden behavior on the sphinx rendered scikit-learn.org. See: https://github.com/scikit-learn/scikit-learn/issues/21755 */display: inline-block !important;position: relative;}#sk-container-id-22 div.sk-text-repr-fallback {display: none;}</style><div id=\"sk-container-id-22\" class=\"sk-top-container\"><div class=\"sk-text-repr-fallback\"><pre>DecisionTreeClassifier(criterion=&#x27;entropy&#x27;)</pre><b>In a Jupyter environment, please rerun this cell to show the HTML representation or trust the notebook. <br />On GitHub, the HTML representation is unable to render, please try loading this page with nbviewer.org.</b></div><div class=\"sk-container\" hidden><div class=\"sk-item\"><div class=\"sk-estimator sk-toggleable\"><input class=\"sk-toggleable__control sk-hidden--visually\" id=\"sk-estimator-id-22\" type=\"checkbox\" checked><label for=\"sk-estimator-id-22\" class=\"sk-toggleable__label sk-toggleable__label-arrow\">DecisionTreeClassifier</label><div class=\"sk-toggleable__content\"><pre>DecisionTreeClassifier(criterion=&#x27;entropy&#x27;)</pre></div></div></div></div></div>"
      ],
      "text/plain": [
       "DecisionTreeClassifier(criterion='entropy')"
      ]
     },
     "execution_count": 223,
     "metadata": {},
     "output_type": "execute_result"
    }
   ],
   "source": [
    "from sklearn.tree import DecisionTreeClassifier\n",
    "import sklearn.tree as tree\n",
    "loanTree = DecisionTreeClassifier(criterion=\"entropy\") # criterion=\"entropy\" so we can see the information gain of each node.\n",
    "loanTree # it shows the default parameter(s)"
   ]
  },
  {
   "cell_type": "markdown",
   "metadata": {},
   "source": [
    "Next, we build the model using the entire train_loan.csv data"
   ]
  },
  {
   "cell_type": "code",
   "execution_count": 224,
   "metadata": {},
   "outputs": [
    {
     "data": {
      "text/html": [
       "<style>#sk-container-id-23 {color: black;background-color: white;}#sk-container-id-23 pre{padding: 0;}#sk-container-id-23 div.sk-toggleable {background-color: white;}#sk-container-id-23 label.sk-toggleable__label {cursor: pointer;display: block;width: 100%;margin-bottom: 0;padding: 0.3em;box-sizing: border-box;text-align: center;}#sk-container-id-23 label.sk-toggleable__label-arrow:before {content: \"▸\";float: left;margin-right: 0.25em;color: #696969;}#sk-container-id-23 label.sk-toggleable__label-arrow:hover:before {color: black;}#sk-container-id-23 div.sk-estimator:hover label.sk-toggleable__label-arrow:before {color: black;}#sk-container-id-23 div.sk-toggleable__content {max-height: 0;max-width: 0;overflow: hidden;text-align: left;background-color: #f0f8ff;}#sk-container-id-23 div.sk-toggleable__content pre {margin: 0.2em;color: black;border-radius: 0.25em;background-color: #f0f8ff;}#sk-container-id-23 input.sk-toggleable__control:checked~div.sk-toggleable__content {max-height: 200px;max-width: 100%;overflow: auto;}#sk-container-id-23 input.sk-toggleable__control:checked~label.sk-toggleable__label-arrow:before {content: \"▾\";}#sk-container-id-23 div.sk-estimator input.sk-toggleable__control:checked~label.sk-toggleable__label {background-color: #d4ebff;}#sk-container-id-23 div.sk-label input.sk-toggleable__control:checked~label.sk-toggleable__label {background-color: #d4ebff;}#sk-container-id-23 input.sk-hidden--visually {border: 0;clip: rect(1px 1px 1px 1px);clip: rect(1px, 1px, 1px, 1px);height: 1px;margin: -1px;overflow: hidden;padding: 0;position: absolute;width: 1px;}#sk-container-id-23 div.sk-estimator {font-family: monospace;background-color: #f0f8ff;border: 1px dotted black;border-radius: 0.25em;box-sizing: border-box;margin-bottom: 0.5em;}#sk-container-id-23 div.sk-estimator:hover {background-color: #d4ebff;}#sk-container-id-23 div.sk-parallel-item::after {content: \"\";width: 100%;border-bottom: 1px solid gray;flex-grow: 1;}#sk-container-id-23 div.sk-label:hover label.sk-toggleable__label {background-color: #d4ebff;}#sk-container-id-23 div.sk-serial::before {content: \"\";position: absolute;border-left: 1px solid gray;box-sizing: border-box;top: 0;bottom: 0;left: 50%;z-index: 0;}#sk-container-id-23 div.sk-serial {display: flex;flex-direction: column;align-items: center;background-color: white;padding-right: 0.2em;padding-left: 0.2em;position: relative;}#sk-container-id-23 div.sk-item {position: relative;z-index: 1;}#sk-container-id-23 div.sk-parallel {display: flex;align-items: stretch;justify-content: center;background-color: white;position: relative;}#sk-container-id-23 div.sk-item::before, #sk-container-id-23 div.sk-parallel-item::before {content: \"\";position: absolute;border-left: 1px solid gray;box-sizing: border-box;top: 0;bottom: 0;left: 50%;z-index: -1;}#sk-container-id-23 div.sk-parallel-item {display: flex;flex-direction: column;z-index: 1;position: relative;background-color: white;}#sk-container-id-23 div.sk-parallel-item:first-child::after {align-self: flex-end;width: 50%;}#sk-container-id-23 div.sk-parallel-item:last-child::after {align-self: flex-start;width: 50%;}#sk-container-id-23 div.sk-parallel-item:only-child::after {width: 0;}#sk-container-id-23 div.sk-dashed-wrapped {border: 1px dashed gray;margin: 0 0.4em 0.5em 0.4em;box-sizing: border-box;padding-bottom: 0.4em;background-color: white;}#sk-container-id-23 div.sk-label label {font-family: monospace;font-weight: bold;display: inline-block;line-height: 1.2em;}#sk-container-id-23 div.sk-label-container {text-align: center;}#sk-container-id-23 div.sk-container {/* jupyter's `normalize.less` sets `[hidden] { display: none; }` but bootstrap.min.css set `[hidden] { display: none !important; }` so we also need the `!important` here to be able to override the default hidden behavior on the sphinx rendered scikit-learn.org. See: https://github.com/scikit-learn/scikit-learn/issues/21755 */display: inline-block !important;position: relative;}#sk-container-id-23 div.sk-text-repr-fallback {display: none;}</style><div id=\"sk-container-id-23\" class=\"sk-top-container\"><div class=\"sk-text-repr-fallback\"><pre>DecisionTreeClassifier(criterion=&#x27;entropy&#x27;)</pre><b>In a Jupyter environment, please rerun this cell to show the HTML representation or trust the notebook. <br />On GitHub, the HTML representation is unable to render, please try loading this page with nbviewer.org.</b></div><div class=\"sk-container\" hidden><div class=\"sk-item\"><div class=\"sk-estimator sk-toggleable\"><input class=\"sk-toggleable__control sk-hidden--visually\" id=\"sk-estimator-id-23\" type=\"checkbox\" checked><label for=\"sk-estimator-id-23\" class=\"sk-toggleable__label sk-toggleable__label-arrow\">DecisionTreeClassifier</label><div class=\"sk-toggleable__content\"><pre>DecisionTreeClassifier(criterion=&#x27;entropy&#x27;)</pre></div></div></div></div></div>"
      ],
      "text/plain": [
       "DecisionTreeClassifier(criterion='entropy')"
      ]
     },
     "execution_count": 224,
     "metadata": {},
     "output_type": "execute_result"
    }
   ],
   "source": [
    "loanTree.fit(X,y)"
   ]
  },
  {
   "cell_type": "markdown",
   "metadata": {},
   "source": [
    "#### 3) Support Vector Machine"
   ]
  },
  {
   "cell_type": "markdown",
   "metadata": {},
   "source": [
    "The SVM algorithm offers a choice of kernel functions for performing its processing. \\\n",
    "There are different types of the kernel function, such as: \n",
    "* Linear, \n",
    "* Polynomial, \n",
    "* Radial basis function (RBF), and \n",
    "* Sigmoid.\n",
    "\n",
    "There's no easy way of knowing which function performs best with any given dataset unless you know something important about your data that might determine proper kernel to use. In general, the best bet is an RBF kernel because they are known to perform very well on a large variety of problems. For this reason, we will use the default RBF."
   ]
  },
  {
   "cell_type": "code",
   "execution_count": 225,
   "metadata": {},
   "outputs": [],
   "source": [
    "from sklearn import svm\n",
    "loanSVM = svm.SVC(kernel='rbf', probability=True)"
   ]
  },
  {
   "cell_type": "markdown",
   "metadata": {},
   "source": [
    "Next, we build the model using the entire train_loan.csv data"
   ]
  },
  {
   "cell_type": "code",
   "execution_count": 226,
   "metadata": {},
   "outputs": [
    {
     "data": {
      "text/html": [
       "<style>#sk-container-id-24 {color: black;background-color: white;}#sk-container-id-24 pre{padding: 0;}#sk-container-id-24 div.sk-toggleable {background-color: white;}#sk-container-id-24 label.sk-toggleable__label {cursor: pointer;display: block;width: 100%;margin-bottom: 0;padding: 0.3em;box-sizing: border-box;text-align: center;}#sk-container-id-24 label.sk-toggleable__label-arrow:before {content: \"▸\";float: left;margin-right: 0.25em;color: #696969;}#sk-container-id-24 label.sk-toggleable__label-arrow:hover:before {color: black;}#sk-container-id-24 div.sk-estimator:hover label.sk-toggleable__label-arrow:before {color: black;}#sk-container-id-24 div.sk-toggleable__content {max-height: 0;max-width: 0;overflow: hidden;text-align: left;background-color: #f0f8ff;}#sk-container-id-24 div.sk-toggleable__content pre {margin: 0.2em;color: black;border-radius: 0.25em;background-color: #f0f8ff;}#sk-container-id-24 input.sk-toggleable__control:checked~div.sk-toggleable__content {max-height: 200px;max-width: 100%;overflow: auto;}#sk-container-id-24 input.sk-toggleable__control:checked~label.sk-toggleable__label-arrow:before {content: \"▾\";}#sk-container-id-24 div.sk-estimator input.sk-toggleable__control:checked~label.sk-toggleable__label {background-color: #d4ebff;}#sk-container-id-24 div.sk-label input.sk-toggleable__control:checked~label.sk-toggleable__label {background-color: #d4ebff;}#sk-container-id-24 input.sk-hidden--visually {border: 0;clip: rect(1px 1px 1px 1px);clip: rect(1px, 1px, 1px, 1px);height: 1px;margin: -1px;overflow: hidden;padding: 0;position: absolute;width: 1px;}#sk-container-id-24 div.sk-estimator {font-family: monospace;background-color: #f0f8ff;border: 1px dotted black;border-radius: 0.25em;box-sizing: border-box;margin-bottom: 0.5em;}#sk-container-id-24 div.sk-estimator:hover {background-color: #d4ebff;}#sk-container-id-24 div.sk-parallel-item::after {content: \"\";width: 100%;border-bottom: 1px solid gray;flex-grow: 1;}#sk-container-id-24 div.sk-label:hover label.sk-toggleable__label {background-color: #d4ebff;}#sk-container-id-24 div.sk-serial::before {content: \"\";position: absolute;border-left: 1px solid gray;box-sizing: border-box;top: 0;bottom: 0;left: 50%;z-index: 0;}#sk-container-id-24 div.sk-serial {display: flex;flex-direction: column;align-items: center;background-color: white;padding-right: 0.2em;padding-left: 0.2em;position: relative;}#sk-container-id-24 div.sk-item {position: relative;z-index: 1;}#sk-container-id-24 div.sk-parallel {display: flex;align-items: stretch;justify-content: center;background-color: white;position: relative;}#sk-container-id-24 div.sk-item::before, #sk-container-id-24 div.sk-parallel-item::before {content: \"\";position: absolute;border-left: 1px solid gray;box-sizing: border-box;top: 0;bottom: 0;left: 50%;z-index: -1;}#sk-container-id-24 div.sk-parallel-item {display: flex;flex-direction: column;z-index: 1;position: relative;background-color: white;}#sk-container-id-24 div.sk-parallel-item:first-child::after {align-self: flex-end;width: 50%;}#sk-container-id-24 div.sk-parallel-item:last-child::after {align-self: flex-start;width: 50%;}#sk-container-id-24 div.sk-parallel-item:only-child::after {width: 0;}#sk-container-id-24 div.sk-dashed-wrapped {border: 1px dashed gray;margin: 0 0.4em 0.5em 0.4em;box-sizing: border-box;padding-bottom: 0.4em;background-color: white;}#sk-container-id-24 div.sk-label label {font-family: monospace;font-weight: bold;display: inline-block;line-height: 1.2em;}#sk-container-id-24 div.sk-label-container {text-align: center;}#sk-container-id-24 div.sk-container {/* jupyter's `normalize.less` sets `[hidden] { display: none; }` but bootstrap.min.css set `[hidden] { display: none !important; }` so we also need the `!important` here to be able to override the default hidden behavior on the sphinx rendered scikit-learn.org. See: https://github.com/scikit-learn/scikit-learn/issues/21755 */display: inline-block !important;position: relative;}#sk-container-id-24 div.sk-text-repr-fallback {display: none;}</style><div id=\"sk-container-id-24\" class=\"sk-top-container\"><div class=\"sk-text-repr-fallback\"><pre>SVC(probability=True)</pre><b>In a Jupyter environment, please rerun this cell to show the HTML representation or trust the notebook. <br />On GitHub, the HTML representation is unable to render, please try loading this page with nbviewer.org.</b></div><div class=\"sk-container\" hidden><div class=\"sk-item\"><div class=\"sk-estimator sk-toggleable\"><input class=\"sk-toggleable__control sk-hidden--visually\" id=\"sk-estimator-id-24\" type=\"checkbox\" checked><label for=\"sk-estimator-id-24\" class=\"sk-toggleable__label sk-toggleable__label-arrow\">SVC</label><div class=\"sk-toggleable__content\"><pre>SVC(probability=True)</pre></div></div></div></div></div>"
      ],
      "text/plain": [
       "SVC(probability=True)"
      ]
     },
     "execution_count": 226,
     "metadata": {},
     "output_type": "execute_result"
    }
   ],
   "source": [
    "loanSVM.fit(X, y)"
   ]
  },
  {
   "cell_type": "markdown",
   "metadata": {},
   "source": [
    "#### 4) Logistic Regression"
   ]
  },
  {
   "cell_type": "markdown",
   "metadata": {},
   "source": [
    "The objective of the Logistic Regression algorithm, is to find the best parameters in such a way that the model best predicts the class of each case.\n",
    "\n",
    "We’ll build the model using LogisticRegression with the lbfgs optimizer from the Scikit-learn package."
   ]
  },
  {
   "cell_type": "code",
   "execution_count": 227,
   "metadata": {},
   "outputs": [],
   "source": [
    "from sklearn.linear_model import LogisticRegression\n",
    "LogReg = LogisticRegression(C=0.01, solver='lbfgs')"
   ]
  },
  {
   "cell_type": "markdown",
   "metadata": {},
   "source": [
    "Now let's fit the model with the training data"
   ]
  },
  {
   "cell_type": "code",
   "execution_count": 228,
   "metadata": {},
   "outputs": [
    {
     "data": {
      "text/html": [
       "<style>#sk-container-id-25 {color: black;background-color: white;}#sk-container-id-25 pre{padding: 0;}#sk-container-id-25 div.sk-toggleable {background-color: white;}#sk-container-id-25 label.sk-toggleable__label {cursor: pointer;display: block;width: 100%;margin-bottom: 0;padding: 0.3em;box-sizing: border-box;text-align: center;}#sk-container-id-25 label.sk-toggleable__label-arrow:before {content: \"▸\";float: left;margin-right: 0.25em;color: #696969;}#sk-container-id-25 label.sk-toggleable__label-arrow:hover:before {color: black;}#sk-container-id-25 div.sk-estimator:hover label.sk-toggleable__label-arrow:before {color: black;}#sk-container-id-25 div.sk-toggleable__content {max-height: 0;max-width: 0;overflow: hidden;text-align: left;background-color: #f0f8ff;}#sk-container-id-25 div.sk-toggleable__content pre {margin: 0.2em;color: black;border-radius: 0.25em;background-color: #f0f8ff;}#sk-container-id-25 input.sk-toggleable__control:checked~div.sk-toggleable__content {max-height: 200px;max-width: 100%;overflow: auto;}#sk-container-id-25 input.sk-toggleable__control:checked~label.sk-toggleable__label-arrow:before {content: \"▾\";}#sk-container-id-25 div.sk-estimator input.sk-toggleable__control:checked~label.sk-toggleable__label {background-color: #d4ebff;}#sk-container-id-25 div.sk-label input.sk-toggleable__control:checked~label.sk-toggleable__label {background-color: #d4ebff;}#sk-container-id-25 input.sk-hidden--visually {border: 0;clip: rect(1px 1px 1px 1px);clip: rect(1px, 1px, 1px, 1px);height: 1px;margin: -1px;overflow: hidden;padding: 0;position: absolute;width: 1px;}#sk-container-id-25 div.sk-estimator {font-family: monospace;background-color: #f0f8ff;border: 1px dotted black;border-radius: 0.25em;box-sizing: border-box;margin-bottom: 0.5em;}#sk-container-id-25 div.sk-estimator:hover {background-color: #d4ebff;}#sk-container-id-25 div.sk-parallel-item::after {content: \"\";width: 100%;border-bottom: 1px solid gray;flex-grow: 1;}#sk-container-id-25 div.sk-label:hover label.sk-toggleable__label {background-color: #d4ebff;}#sk-container-id-25 div.sk-serial::before {content: \"\";position: absolute;border-left: 1px solid gray;box-sizing: border-box;top: 0;bottom: 0;left: 50%;z-index: 0;}#sk-container-id-25 div.sk-serial {display: flex;flex-direction: column;align-items: center;background-color: white;padding-right: 0.2em;padding-left: 0.2em;position: relative;}#sk-container-id-25 div.sk-item {position: relative;z-index: 1;}#sk-container-id-25 div.sk-parallel {display: flex;align-items: stretch;justify-content: center;background-color: white;position: relative;}#sk-container-id-25 div.sk-item::before, #sk-container-id-25 div.sk-parallel-item::before {content: \"\";position: absolute;border-left: 1px solid gray;box-sizing: border-box;top: 0;bottom: 0;left: 50%;z-index: -1;}#sk-container-id-25 div.sk-parallel-item {display: flex;flex-direction: column;z-index: 1;position: relative;background-color: white;}#sk-container-id-25 div.sk-parallel-item:first-child::after {align-self: flex-end;width: 50%;}#sk-container-id-25 div.sk-parallel-item:last-child::after {align-self: flex-start;width: 50%;}#sk-container-id-25 div.sk-parallel-item:only-child::after {width: 0;}#sk-container-id-25 div.sk-dashed-wrapped {border: 1px dashed gray;margin: 0 0.4em 0.5em 0.4em;box-sizing: border-box;padding-bottom: 0.4em;background-color: white;}#sk-container-id-25 div.sk-label label {font-family: monospace;font-weight: bold;display: inline-block;line-height: 1.2em;}#sk-container-id-25 div.sk-label-container {text-align: center;}#sk-container-id-25 div.sk-container {/* jupyter's `normalize.less` sets `[hidden] { display: none; }` but bootstrap.min.css set `[hidden] { display: none !important; }` so we also need the `!important` here to be able to override the default hidden behavior on the sphinx rendered scikit-learn.org. See: https://github.com/scikit-learn/scikit-learn/issues/21755 */display: inline-block !important;position: relative;}#sk-container-id-25 div.sk-text-repr-fallback {display: none;}</style><div id=\"sk-container-id-25\" class=\"sk-top-container\"><div class=\"sk-text-repr-fallback\"><pre>LogisticRegression(C=0.01)</pre><b>In a Jupyter environment, please rerun this cell to show the HTML representation or trust the notebook. <br />On GitHub, the HTML representation is unable to render, please try loading this page with nbviewer.org.</b></div><div class=\"sk-container\" hidden><div class=\"sk-item\"><div class=\"sk-estimator sk-toggleable\"><input class=\"sk-toggleable__control sk-hidden--visually\" id=\"sk-estimator-id-25\" type=\"checkbox\" checked><label for=\"sk-estimator-id-25\" class=\"sk-toggleable__label sk-toggleable__label-arrow\">LogisticRegression</label><div class=\"sk-toggleable__content\"><pre>LogisticRegression(C=0.01)</pre></div></div></div></div></div>"
      ],
      "text/plain": [
       "LogisticRegression(C=0.01)"
      ]
     },
     "execution_count": 228,
     "metadata": {},
     "output_type": "execute_result"
    }
   ],
   "source": [
    "LogReg.fit(X, y)"
   ]
  },
  {
   "cell_type": "markdown",
   "metadata": {},
   "source": [
    "#### Model Evaluation using Test set\n",
    "\n",
    "Now we use the test set to evaluate the models and compare their accuracy in predicting loan_status."
   ]
  },
  {
   "cell_type": "code",
   "execution_count": 229,
   "metadata": {},
   "outputs": [],
   "source": [
    "# let's import evaluation metrics from sklearn \n",
    "\n",
    "from sklearn.metrics import jaccard_score\n",
    "from sklearn.metrics import f1_score\n",
    "from sklearn.metrics import log_loss"
   ]
  },
  {
   "cell_type": "code",
   "execution_count": 230,
   "metadata": {},
   "outputs": [
    {
     "data": {
      "text/html": [
       "<div>\n",
       "<style scoped>\n",
       "    .dataframe tbody tr th:only-of-type {\n",
       "        vertical-align: middle;\n",
       "    }\n",
       "\n",
       "    .dataframe tbody tr th {\n",
       "        vertical-align: top;\n",
       "    }\n",
       "\n",
       "    .dataframe thead th {\n",
       "        text-align: right;\n",
       "    }\n",
       "</style>\n",
       "<table border=\"1\" class=\"dataframe\">\n",
       "  <thead>\n",
       "    <tr style=\"text-align: right;\">\n",
       "      <th></th>\n",
       "      <th>Unnamed: 0</th>\n",
       "      <th>Unnamed: 0.1</th>\n",
       "      <th>loan_status</th>\n",
       "      <th>Principal</th>\n",
       "      <th>terms</th>\n",
       "      <th>effective_date</th>\n",
       "      <th>due_date</th>\n",
       "      <th>age</th>\n",
       "      <th>education</th>\n",
       "      <th>Gender</th>\n",
       "    </tr>\n",
       "  </thead>\n",
       "  <tbody>\n",
       "    <tr>\n",
       "      <th>0</th>\n",
       "      <td>1</td>\n",
       "      <td>1</td>\n",
       "      <td>PAIDOFF</td>\n",
       "      <td>1000</td>\n",
       "      <td>30</td>\n",
       "      <td>9/8/2016</td>\n",
       "      <td>10/7/2016</td>\n",
       "      <td>50</td>\n",
       "      <td>Bechalor</td>\n",
       "      <td>female</td>\n",
       "    </tr>\n",
       "    <tr>\n",
       "      <th>1</th>\n",
       "      <td>5</td>\n",
       "      <td>5</td>\n",
       "      <td>PAIDOFF</td>\n",
       "      <td>300</td>\n",
       "      <td>7</td>\n",
       "      <td>9/9/2016</td>\n",
       "      <td>9/15/2016</td>\n",
       "      <td>35</td>\n",
       "      <td>Master or Above</td>\n",
       "      <td>male</td>\n",
       "    </tr>\n",
       "    <tr>\n",
       "      <th>2</th>\n",
       "      <td>21</td>\n",
       "      <td>21</td>\n",
       "      <td>PAIDOFF</td>\n",
       "      <td>1000</td>\n",
       "      <td>30</td>\n",
       "      <td>9/10/2016</td>\n",
       "      <td>10/9/2016</td>\n",
       "      <td>43</td>\n",
       "      <td>High School or Below</td>\n",
       "      <td>female</td>\n",
       "    </tr>\n",
       "    <tr>\n",
       "      <th>3</th>\n",
       "      <td>24</td>\n",
       "      <td>24</td>\n",
       "      <td>PAIDOFF</td>\n",
       "      <td>1000</td>\n",
       "      <td>30</td>\n",
       "      <td>9/10/2016</td>\n",
       "      <td>10/9/2016</td>\n",
       "      <td>26</td>\n",
       "      <td>college</td>\n",
       "      <td>male</td>\n",
       "    </tr>\n",
       "    <tr>\n",
       "      <th>4</th>\n",
       "      <td>35</td>\n",
       "      <td>35</td>\n",
       "      <td>PAIDOFF</td>\n",
       "      <td>800</td>\n",
       "      <td>15</td>\n",
       "      <td>9/11/2016</td>\n",
       "      <td>9/25/2016</td>\n",
       "      <td>29</td>\n",
       "      <td>Bechalor</td>\n",
       "      <td>male</td>\n",
       "    </tr>\n",
       "  </tbody>\n",
       "</table>\n",
       "</div>"
      ],
      "text/plain": [
       "   Unnamed: 0  Unnamed: 0.1 loan_status  Principal  terms effective_date  \\\n",
       "0           1             1     PAIDOFF       1000     30       9/8/2016   \n",
       "1           5             5     PAIDOFF        300      7       9/9/2016   \n",
       "2          21            21     PAIDOFF       1000     30      9/10/2016   \n",
       "3          24            24     PAIDOFF       1000     30      9/10/2016   \n",
       "4          35            35     PAIDOFF        800     15      9/11/2016   \n",
       "\n",
       "    due_date  age             education  Gender  \n",
       "0  10/7/2016   50              Bechalor  female  \n",
       "1  9/15/2016   35       Master or Above    male  \n",
       "2  10/9/2016   43  High School or Below  female  \n",
       "3  10/9/2016   26               college    male  \n",
       "4  9/25/2016   29              Bechalor    male  "
      ]
     },
     "execution_count": 230,
     "metadata": {},
     "output_type": "execute_result"
    }
   ],
   "source": [
    "# Load test set \n",
    "\n",
    "test_df = pd.read_csv('loan_test.csv')\n",
    "test_df.head()"
   ]
  },
  {
   "cell_type": "markdown",
   "metadata": {},
   "source": [
    "Let's get rid of the unnamed columns and drop dublicate rows if any exist"
   ]
  },
  {
   "cell_type": "code",
   "execution_count": 231,
   "metadata": {},
   "outputs": [
    {
     "data": {
      "text/plain": [
       "(54, 8)"
      ]
     },
     "execution_count": 231,
     "metadata": {},
     "output_type": "execute_result"
    }
   ],
   "source": [
    "test_df = test_df[['loan_status', 'Principal', 'terms', 'effective_date', 'due_date', 'age', 'education', 'Gender']]\n",
    "test_df.shape"
   ]
  },
  {
   "cell_type": "code",
   "execution_count": 232,
   "metadata": {},
   "outputs": [
    {
     "data": {
      "text/plain": [
       "(54, 8)"
      ]
     },
     "execution_count": 232,
     "metadata": {},
     "output_type": "execute_result"
    }
   ],
   "source": [
    "test_df.drop_duplicates()\n",
    "test_df.shape"
   ]
  },
  {
   "cell_type": "markdown",
   "metadata": {},
   "source": [
    "Let's convert dates to datetime object"
   ]
  },
  {
   "cell_type": "code",
   "execution_count": 233,
   "metadata": {},
   "outputs": [
    {
     "data": {
      "text/html": [
       "<div>\n",
       "<style scoped>\n",
       "    .dataframe tbody tr th:only-of-type {\n",
       "        vertical-align: middle;\n",
       "    }\n",
       "\n",
       "    .dataframe tbody tr th {\n",
       "        vertical-align: top;\n",
       "    }\n",
       "\n",
       "    .dataframe thead th {\n",
       "        text-align: right;\n",
       "    }\n",
       "</style>\n",
       "<table border=\"1\" class=\"dataframe\">\n",
       "  <thead>\n",
       "    <tr style=\"text-align: right;\">\n",
       "      <th></th>\n",
       "      <th>loan_status</th>\n",
       "      <th>Principal</th>\n",
       "      <th>terms</th>\n",
       "      <th>effective_date</th>\n",
       "      <th>due_date</th>\n",
       "      <th>age</th>\n",
       "      <th>education</th>\n",
       "      <th>Gender</th>\n",
       "    </tr>\n",
       "  </thead>\n",
       "  <tbody>\n",
       "    <tr>\n",
       "      <th>0</th>\n",
       "      <td>PAIDOFF</td>\n",
       "      <td>1000</td>\n",
       "      <td>30</td>\n",
       "      <td>2016-09-08</td>\n",
       "      <td>2016-10-07</td>\n",
       "      <td>50</td>\n",
       "      <td>Bechalor</td>\n",
       "      <td>female</td>\n",
       "    </tr>\n",
       "    <tr>\n",
       "      <th>1</th>\n",
       "      <td>PAIDOFF</td>\n",
       "      <td>300</td>\n",
       "      <td>7</td>\n",
       "      <td>2016-09-09</td>\n",
       "      <td>2016-09-15</td>\n",
       "      <td>35</td>\n",
       "      <td>Master or Above</td>\n",
       "      <td>male</td>\n",
       "    </tr>\n",
       "    <tr>\n",
       "      <th>2</th>\n",
       "      <td>PAIDOFF</td>\n",
       "      <td>1000</td>\n",
       "      <td>30</td>\n",
       "      <td>2016-09-10</td>\n",
       "      <td>2016-10-09</td>\n",
       "      <td>43</td>\n",
       "      <td>High School or Below</td>\n",
       "      <td>female</td>\n",
       "    </tr>\n",
       "    <tr>\n",
       "      <th>3</th>\n",
       "      <td>PAIDOFF</td>\n",
       "      <td>1000</td>\n",
       "      <td>30</td>\n",
       "      <td>2016-09-10</td>\n",
       "      <td>2016-10-09</td>\n",
       "      <td>26</td>\n",
       "      <td>college</td>\n",
       "      <td>male</td>\n",
       "    </tr>\n",
       "    <tr>\n",
       "      <th>4</th>\n",
       "      <td>PAIDOFF</td>\n",
       "      <td>800</td>\n",
       "      <td>15</td>\n",
       "      <td>2016-09-11</td>\n",
       "      <td>2016-09-25</td>\n",
       "      <td>29</td>\n",
       "      <td>Bechalor</td>\n",
       "      <td>male</td>\n",
       "    </tr>\n",
       "  </tbody>\n",
       "</table>\n",
       "</div>"
      ],
      "text/plain": [
       "  loan_status  Principal  terms effective_date   due_date  age  \\\n",
       "0     PAIDOFF       1000     30     2016-09-08 2016-10-07   50   \n",
       "1     PAIDOFF        300      7     2016-09-09 2016-09-15   35   \n",
       "2     PAIDOFF       1000     30     2016-09-10 2016-10-09   43   \n",
       "3     PAIDOFF       1000     30     2016-09-10 2016-10-09   26   \n",
       "4     PAIDOFF        800     15     2016-09-11 2016-09-25   29   \n",
       "\n",
       "              education  Gender  \n",
       "0              Bechalor  female  \n",
       "1       Master or Above    male  \n",
       "2  High School or Below  female  \n",
       "3               college    male  \n",
       "4              Bechalor    male  "
      ]
     },
     "execution_count": 233,
     "metadata": {},
     "output_type": "execute_result"
    }
   ],
   "source": [
    "test_df['due_date'] = pd.to_datetime(test_df['due_date'])\n",
    "test_df['effective_date'] = pd.to_datetime(test_df['effective_date'])\n",
    "test_df.head()"
   ]
  },
  {
   "cell_type": "markdown",
   "metadata": {},
   "source": [
    "Let's create dayofweek and weekend columns"
   ]
  },
  {
   "cell_type": "code",
   "execution_count": 234,
   "metadata": {},
   "outputs": [
    {
     "data": {
      "text/html": [
       "<div>\n",
       "<style scoped>\n",
       "    .dataframe tbody tr th:only-of-type {\n",
       "        vertical-align: middle;\n",
       "    }\n",
       "\n",
       "    .dataframe tbody tr th {\n",
       "        vertical-align: top;\n",
       "    }\n",
       "\n",
       "    .dataframe thead th {\n",
       "        text-align: right;\n",
       "    }\n",
       "</style>\n",
       "<table border=\"1\" class=\"dataframe\">\n",
       "  <thead>\n",
       "    <tr style=\"text-align: right;\">\n",
       "      <th></th>\n",
       "      <th>loan_status</th>\n",
       "      <th>Principal</th>\n",
       "      <th>terms</th>\n",
       "      <th>effective_date</th>\n",
       "      <th>due_date</th>\n",
       "      <th>age</th>\n",
       "      <th>education</th>\n",
       "      <th>Gender</th>\n",
       "      <th>dayofweek</th>\n",
       "      <th>weekend</th>\n",
       "    </tr>\n",
       "  </thead>\n",
       "  <tbody>\n",
       "    <tr>\n",
       "      <th>0</th>\n",
       "      <td>PAIDOFF</td>\n",
       "      <td>1000</td>\n",
       "      <td>30</td>\n",
       "      <td>2016-09-08</td>\n",
       "      <td>2016-10-07</td>\n",
       "      <td>50</td>\n",
       "      <td>Bechalor</td>\n",
       "      <td>female</td>\n",
       "      <td>3</td>\n",
       "      <td>0</td>\n",
       "    </tr>\n",
       "    <tr>\n",
       "      <th>1</th>\n",
       "      <td>PAIDOFF</td>\n",
       "      <td>300</td>\n",
       "      <td>7</td>\n",
       "      <td>2016-09-09</td>\n",
       "      <td>2016-09-15</td>\n",
       "      <td>35</td>\n",
       "      <td>Master or Above</td>\n",
       "      <td>male</td>\n",
       "      <td>4</td>\n",
       "      <td>1</td>\n",
       "    </tr>\n",
       "    <tr>\n",
       "      <th>2</th>\n",
       "      <td>PAIDOFF</td>\n",
       "      <td>1000</td>\n",
       "      <td>30</td>\n",
       "      <td>2016-09-10</td>\n",
       "      <td>2016-10-09</td>\n",
       "      <td>43</td>\n",
       "      <td>High School or Below</td>\n",
       "      <td>female</td>\n",
       "      <td>5</td>\n",
       "      <td>1</td>\n",
       "    </tr>\n",
       "    <tr>\n",
       "      <th>3</th>\n",
       "      <td>PAIDOFF</td>\n",
       "      <td>1000</td>\n",
       "      <td>30</td>\n",
       "      <td>2016-09-10</td>\n",
       "      <td>2016-10-09</td>\n",
       "      <td>26</td>\n",
       "      <td>college</td>\n",
       "      <td>male</td>\n",
       "      <td>5</td>\n",
       "      <td>1</td>\n",
       "    </tr>\n",
       "    <tr>\n",
       "      <th>4</th>\n",
       "      <td>PAIDOFF</td>\n",
       "      <td>800</td>\n",
       "      <td>15</td>\n",
       "      <td>2016-09-11</td>\n",
       "      <td>2016-09-25</td>\n",
       "      <td>29</td>\n",
       "      <td>Bechalor</td>\n",
       "      <td>male</td>\n",
       "      <td>6</td>\n",
       "      <td>1</td>\n",
       "    </tr>\n",
       "  </tbody>\n",
       "</table>\n",
       "</div>"
      ],
      "text/plain": [
       "  loan_status  Principal  terms effective_date   due_date  age  \\\n",
       "0     PAIDOFF       1000     30     2016-09-08 2016-10-07   50   \n",
       "1     PAIDOFF        300      7     2016-09-09 2016-09-15   35   \n",
       "2     PAIDOFF       1000     30     2016-09-10 2016-10-09   43   \n",
       "3     PAIDOFF       1000     30     2016-09-10 2016-10-09   26   \n",
       "4     PAIDOFF        800     15     2016-09-11 2016-09-25   29   \n",
       "\n",
       "              education  Gender  dayofweek  weekend  \n",
       "0              Bechalor  female          3        0  \n",
       "1       Master or Above    male          4        1  \n",
       "2  High School or Below  female          5        1  \n",
       "3               college    male          5        1  \n",
       "4              Bechalor    male          6        1  "
      ]
     },
     "execution_count": 234,
     "metadata": {},
     "output_type": "execute_result"
    }
   ],
   "source": [
    "test_df['dayofweek'] = test_df['effective_date'].dt.dayofweek\n",
    "test_df['weekend'] = test_df['dayofweek'].apply(lambda x: 1 if (x>3)  else 0)\n",
    "test_df.head()"
   ]
  },
  {
   "cell_type": "markdown",
   "metadata": {},
   "source": [
    "Let's convert male to 0 and female to 1"
   ]
  },
  {
   "cell_type": "code",
   "execution_count": 235,
   "metadata": {},
   "outputs": [
    {
     "data": {
      "text/html": [
       "<div>\n",
       "<style scoped>\n",
       "    .dataframe tbody tr th:only-of-type {\n",
       "        vertical-align: middle;\n",
       "    }\n",
       "\n",
       "    .dataframe tbody tr th {\n",
       "        vertical-align: top;\n",
       "    }\n",
       "\n",
       "    .dataframe thead th {\n",
       "        text-align: right;\n",
       "    }\n",
       "</style>\n",
       "<table border=\"1\" class=\"dataframe\">\n",
       "  <thead>\n",
       "    <tr style=\"text-align: right;\">\n",
       "      <th></th>\n",
       "      <th>loan_status</th>\n",
       "      <th>Principal</th>\n",
       "      <th>terms</th>\n",
       "      <th>effective_date</th>\n",
       "      <th>due_date</th>\n",
       "      <th>age</th>\n",
       "      <th>education</th>\n",
       "      <th>Gender</th>\n",
       "      <th>dayofweek</th>\n",
       "      <th>weekend</th>\n",
       "    </tr>\n",
       "  </thead>\n",
       "  <tbody>\n",
       "    <tr>\n",
       "      <th>0</th>\n",
       "      <td>PAIDOFF</td>\n",
       "      <td>1000</td>\n",
       "      <td>30</td>\n",
       "      <td>2016-09-08</td>\n",
       "      <td>2016-10-07</td>\n",
       "      <td>50</td>\n",
       "      <td>Bechalor</td>\n",
       "      <td>1</td>\n",
       "      <td>3</td>\n",
       "      <td>0</td>\n",
       "    </tr>\n",
       "    <tr>\n",
       "      <th>1</th>\n",
       "      <td>PAIDOFF</td>\n",
       "      <td>300</td>\n",
       "      <td>7</td>\n",
       "      <td>2016-09-09</td>\n",
       "      <td>2016-09-15</td>\n",
       "      <td>35</td>\n",
       "      <td>Master or Above</td>\n",
       "      <td>0</td>\n",
       "      <td>4</td>\n",
       "      <td>1</td>\n",
       "    </tr>\n",
       "    <tr>\n",
       "      <th>2</th>\n",
       "      <td>PAIDOFF</td>\n",
       "      <td>1000</td>\n",
       "      <td>30</td>\n",
       "      <td>2016-09-10</td>\n",
       "      <td>2016-10-09</td>\n",
       "      <td>43</td>\n",
       "      <td>High School or Below</td>\n",
       "      <td>1</td>\n",
       "      <td>5</td>\n",
       "      <td>1</td>\n",
       "    </tr>\n",
       "    <tr>\n",
       "      <th>3</th>\n",
       "      <td>PAIDOFF</td>\n",
       "      <td>1000</td>\n",
       "      <td>30</td>\n",
       "      <td>2016-09-10</td>\n",
       "      <td>2016-10-09</td>\n",
       "      <td>26</td>\n",
       "      <td>college</td>\n",
       "      <td>0</td>\n",
       "      <td>5</td>\n",
       "      <td>1</td>\n",
       "    </tr>\n",
       "    <tr>\n",
       "      <th>4</th>\n",
       "      <td>PAIDOFF</td>\n",
       "      <td>800</td>\n",
       "      <td>15</td>\n",
       "      <td>2016-09-11</td>\n",
       "      <td>2016-09-25</td>\n",
       "      <td>29</td>\n",
       "      <td>Bechalor</td>\n",
       "      <td>0</td>\n",
       "      <td>6</td>\n",
       "      <td>1</td>\n",
       "    </tr>\n",
       "  </tbody>\n",
       "</table>\n",
       "</div>"
      ],
      "text/plain": [
       "  loan_status  Principal  terms effective_date   due_date  age  \\\n",
       "0     PAIDOFF       1000     30     2016-09-08 2016-10-07   50   \n",
       "1     PAIDOFF        300      7     2016-09-09 2016-09-15   35   \n",
       "2     PAIDOFF       1000     30     2016-09-10 2016-10-09   43   \n",
       "3     PAIDOFF       1000     30     2016-09-10 2016-10-09   26   \n",
       "4     PAIDOFF        800     15     2016-09-11 2016-09-25   29   \n",
       "\n",
       "              education  Gender  dayofweek  weekend  \n",
       "0              Bechalor       1          3        0  \n",
       "1       Master or Above       0          4        1  \n",
       "2  High School or Below       1          5        1  \n",
       "3               college       0          5        1  \n",
       "4              Bechalor       0          6        1  "
      ]
     },
     "execution_count": 235,
     "metadata": {},
     "output_type": "execute_result"
    }
   ],
   "source": [
    "test_df['Gender'].replace(to_replace=['male','female'], value=[0,1],inplace=True)\n",
    "test_df.head()"
   ]
  },
  {
   "cell_type": "markdown",
   "metadata": {},
   "source": [
    "Let's use one hot encoding technique to convert the values of the education varable to binary variables and appended them to the feature dataframe with the Master or above variable dropped."
   ]
  },
  {
   "cell_type": "code",
   "execution_count": 236,
   "metadata": {},
   "outputs": [
    {
     "data": {
      "text/html": [
       "<div>\n",
       "<style scoped>\n",
       "    .dataframe tbody tr th:only-of-type {\n",
       "        vertical-align: middle;\n",
       "    }\n",
       "\n",
       "    .dataframe tbody tr th {\n",
       "        vertical-align: top;\n",
       "    }\n",
       "\n",
       "    .dataframe thead th {\n",
       "        text-align: right;\n",
       "    }\n",
       "</style>\n",
       "<table border=\"1\" class=\"dataframe\">\n",
       "  <thead>\n",
       "    <tr style=\"text-align: right;\">\n",
       "      <th></th>\n",
       "      <th>Principal</th>\n",
       "      <th>terms</th>\n",
       "      <th>age</th>\n",
       "      <th>Gender</th>\n",
       "      <th>weekend</th>\n",
       "      <th>Bechalor</th>\n",
       "      <th>High School or Below</th>\n",
       "      <th>college</th>\n",
       "    </tr>\n",
       "  </thead>\n",
       "  <tbody>\n",
       "    <tr>\n",
       "      <th>0</th>\n",
       "      <td>1000</td>\n",
       "      <td>30</td>\n",
       "      <td>50</td>\n",
       "      <td>1</td>\n",
       "      <td>0</td>\n",
       "      <td>1</td>\n",
       "      <td>0</td>\n",
       "      <td>0</td>\n",
       "    </tr>\n",
       "    <tr>\n",
       "      <th>1</th>\n",
       "      <td>300</td>\n",
       "      <td>7</td>\n",
       "      <td>35</td>\n",
       "      <td>0</td>\n",
       "      <td>1</td>\n",
       "      <td>0</td>\n",
       "      <td>0</td>\n",
       "      <td>0</td>\n",
       "    </tr>\n",
       "    <tr>\n",
       "      <th>2</th>\n",
       "      <td>1000</td>\n",
       "      <td>30</td>\n",
       "      <td>43</td>\n",
       "      <td>1</td>\n",
       "      <td>1</td>\n",
       "      <td>0</td>\n",
       "      <td>1</td>\n",
       "      <td>0</td>\n",
       "    </tr>\n",
       "    <tr>\n",
       "      <th>3</th>\n",
       "      <td>1000</td>\n",
       "      <td>30</td>\n",
       "      <td>26</td>\n",
       "      <td>0</td>\n",
       "      <td>1</td>\n",
       "      <td>0</td>\n",
       "      <td>0</td>\n",
       "      <td>1</td>\n",
       "    </tr>\n",
       "    <tr>\n",
       "      <th>4</th>\n",
       "      <td>800</td>\n",
       "      <td>15</td>\n",
       "      <td>29</td>\n",
       "      <td>0</td>\n",
       "      <td>1</td>\n",
       "      <td>1</td>\n",
       "      <td>0</td>\n",
       "      <td>0</td>\n",
       "    </tr>\n",
       "  </tbody>\n",
       "</table>\n",
       "</div>"
      ],
      "text/plain": [
       "   Principal  terms  age  Gender  weekend  Bechalor  High School or Below  \\\n",
       "0       1000     30   50       1        0         1                     0   \n",
       "1        300      7   35       0        1         0                     0   \n",
       "2       1000     30   43       1        1         0                     1   \n",
       "3       1000     30   26       0        1         0                     0   \n",
       "4        800     15   29       0        1         1                     0   \n",
       "\n",
       "   college  \n",
       "0        0  \n",
       "1        0  \n",
       "2        0  \n",
       "3        1  \n",
       "4        0  "
      ]
     },
     "execution_count": 236,
     "metadata": {},
     "output_type": "execute_result"
    }
   ],
   "source": [
    "Feature1 = test_df[['Principal','terms','age','Gender','weekend']]\n",
    "Feature1 = pd.concat([Feature1,pd.get_dummies(test_df['education'])], axis=1)\n",
    "Feature1.drop(['Master or Above'], axis = 1,inplace=True)\n",
    "Feature1.head()"
   ]
  },
  {
   "cell_type": "markdown",
   "metadata": {},
   "source": [
    "Let's define feature test set as X_ftest and label test set as y_ftest"
   ]
  },
  {
   "cell_type": "code",
   "execution_count": 237,
   "metadata": {},
   "outputs": [],
   "source": [
    "X_ftest = Feature1\n",
    "y_ftest = test_df['loan_status'].values"
   ]
  },
  {
   "cell_type": "code",
   "execution_count": 238,
   "metadata": {},
   "outputs": [
    {
     "data": {
      "text/plain": [
       "array([[ 0.49362588,  0.92844966,  3.05981865,  1.97714211, -1.30384048,\n",
       "         2.39791576, -0.79772404, -0.86135677],\n",
       "       [-3.56269116, -1.70427745,  0.53336288, -0.50578054,  0.76696499,\n",
       "        -0.41702883, -0.79772404, -0.86135677],\n",
       "       [ 0.49362588,  0.92844966,  1.88080596,  1.97714211,  0.76696499,\n",
       "        -0.41702883,  1.25356634, -0.86135677],\n",
       "       [ 0.49362588,  0.92844966, -0.98251057, -0.50578054,  0.76696499,\n",
       "        -0.41702883, -0.79772404,  1.16095912],\n",
       "       [-0.66532184, -0.78854628, -0.47721942, -0.50578054,  0.76696499,\n",
       "         2.39791576, -0.79772404, -0.86135677]])"
      ]
     },
     "execution_count": 238,
     "metadata": {},
     "output_type": "execute_result"
    }
   ],
   "source": [
    "# Normalize (or standardize) the feature dataset.\n",
    "\n",
    "X_ftest= preprocessing.StandardScaler().fit(X_ftest).transform(X_ftest)\n",
    "X_ftest[0:5]"
   ]
  },
  {
   "cell_type": "markdown",
   "metadata": {},
   "source": [
    "we can now perform out-of-sample predictions using the different modelds and evaluate their accuracy."
   ]
  },
  {
   "cell_type": "markdown",
   "metadata": {},
   "source": [
    "#### 1) K Nearest Neighbor(KNN)"
   ]
  },
  {
   "cell_type": "code",
   "execution_count": 239,
   "metadata": {},
   "outputs": [],
   "source": [
    "# Let's make some predictions on the testing dataset and store it into a variable called yhat7.\n",
    "\n",
    "yhat7 = neigh7.predict(X_ftest)"
   ]
  },
  {
   "cell_type": "code",
   "execution_count": 240,
   "metadata": {},
   "outputs": [
    {
     "name": "stdout",
     "output_type": "stream",
     "text": [
      "['PAIDOFF' 'PAIDOFF' 'COLLECTION' 'COLLECTION' 'COLLECTION']\n",
      "['PAIDOFF' 'PAIDOFF' 'PAIDOFF' 'PAIDOFF' 'PAIDOFF']\n"
     ]
    }
   ],
   "source": [
    "# Visually compare the predictions to the actual values.\n",
    "\n",
    "print (yhat7 [0:5])\n",
    "print (y_ftest [0:5])"
   ]
  },
  {
   "cell_type": "markdown",
   "metadata": {},
   "source": [
    "Let's check the accuracy of this model using f1_score and jaccard_score. Note that log_loss is not a good metric to use here because probabilities in nearest neighbour is highly dependent on the number of k’s you choose."
   ]
  },
  {
   "cell_type": "code",
   "execution_count": 241,
   "metadata": {},
   "outputs": [
    {
     "data": {
      "text/plain": [
       "0.72"
      ]
     },
     "execution_count": 241,
     "metadata": {},
     "output_type": "execute_result"
    }
   ],
   "source": [
    "# jaccard_score for KNN\n",
    "\n",
    "neighJaccardScore = jaccard_score(y_ftest, yhat7, pos_label='PAIDOFF')\n",
    "neighJaccardScore"
   ]
  },
  {
   "cell_type": "code",
   "execution_count": 242,
   "metadata": {},
   "outputs": [
    {
     "data": {
      "text/plain": [
       "0.7144311330357843"
      ]
     },
     "execution_count": 242,
     "metadata": {},
     "output_type": "execute_result"
    }
   ],
   "source": [
    "# f1_score for KNN\n",
    "\n",
    "neighF1Score = f1_score(y_ftest, yhat7, average='weighted')\n",
    "neighF1Score"
   ]
  },
  {
   "cell_type": "markdown",
   "metadata": {},
   "source": [
    "#### 2) Decision Tree"
   ]
  },
  {
   "cell_type": "code",
   "execution_count": 243,
   "metadata": {},
   "outputs": [],
   "source": [
    "# Let's make some predictions on the testing dataset and store it into a variable called predTree.\n",
    "\n",
    "predTree = loanTree.predict(X_ftest)"
   ]
  },
  {
   "cell_type": "code",
   "execution_count": 244,
   "metadata": {},
   "outputs": [
    {
     "name": "stdout",
     "output_type": "stream",
     "text": [
      "['PAIDOFF' 'PAIDOFF' 'PAIDOFF' 'COLLECTION' 'COLLECTION']\n",
      "['PAIDOFF' 'PAIDOFF' 'PAIDOFF' 'PAIDOFF' 'PAIDOFF']\n"
     ]
    }
   ],
   "source": [
    "# Visually compare the predictions to the actual values.\n",
    "\n",
    "print (predTree [0:5])\n",
    "print (y_ftest [0:5])"
   ]
  },
  {
   "cell_type": "markdown",
   "metadata": {},
   "source": [
    "Let's check the accuracy of this model"
   ]
  },
  {
   "cell_type": "code",
   "execution_count": 245,
   "metadata": {},
   "outputs": [
    {
     "data": {
      "text/plain": [
       "0.6458333333333334"
      ]
     },
     "execution_count": 245,
     "metadata": {},
     "output_type": "execute_result"
    }
   ],
   "source": [
    "# jaccard_score for decision tree\n",
    "\n",
    "DTreeJaccardScore = jaccard_score(y_ftest, predTree, pos_label='PAIDOFF')\n",
    "DTreeJaccardScore"
   ]
  },
  {
   "cell_type": "code",
   "execution_count": 246,
   "metadata": {},
   "outputs": [
    {
     "data": {
      "text/plain": [
       "0.6886205279919816"
      ]
     },
     "execution_count": 246,
     "metadata": {},
     "output_type": "execute_result"
    }
   ],
   "source": [
    "# f1_score for decision tree\n",
    "\n",
    "DTreeF1Score = f1_score(y_ftest, predTree, average='weighted')\n",
    "DTreeF1Score"
   ]
  },
  {
   "cell_type": "code",
   "execution_count": 247,
   "metadata": {},
   "outputs": [
    {
     "data": {
      "text/plain": [
       "7.78862700607984"
      ]
     },
     "execution_count": 247,
     "metadata": {},
     "output_type": "execute_result"
    }
   ],
   "source": [
    "# log_loss for decision tree\n",
    "\n",
    "DTree_probs = loanTree.predict_proba(X_ftest)\n",
    "DTreelogloss = log_loss(y_ftest, DTree_probs )\n",
    "DTreelogloss "
   ]
  },
  {
   "cell_type": "markdown",
   "metadata": {},
   "source": [
    "#### 3) Support Vector Machine"
   ]
  },
  {
   "cell_type": "code",
   "execution_count": 248,
   "metadata": {},
   "outputs": [],
   "source": [
    "# Let's make some predictions on the testing dataset and store it into a variable called yhatSVM.\n",
    "\n",
    "yhatSVM = loanSVM.predict(X_ftest)"
   ]
  },
  {
   "cell_type": "code",
   "execution_count": 249,
   "metadata": {},
   "outputs": [
    {
     "name": "stdout",
     "output_type": "stream",
     "text": [
      "['PAIDOFF' 'PAIDOFF' 'PAIDOFF' 'PAIDOFF' 'COLLECTION']\n",
      "['PAIDOFF' 'PAIDOFF' 'PAIDOFF' 'PAIDOFF' 'PAIDOFF']\n"
     ]
    }
   ],
   "source": [
    "# Visually compare the predictions to the actual values.\n",
    "\n",
    "print (yhatSVM [0:5])\n",
    "print (y_ftest [0:5])"
   ]
  },
  {
   "cell_type": "markdown",
   "metadata": {},
   "source": [
    "Let's check the accuracy of this model"
   ]
  },
  {
   "cell_type": "code",
   "execution_count": 250,
   "metadata": {},
   "outputs": [
    {
     "data": {
      "text/plain": [
       "0.7222222222222222"
      ]
     },
     "execution_count": 250,
     "metadata": {},
     "output_type": "execute_result"
    }
   ],
   "source": [
    "# jaccard_score for SVM\n",
    "\n",
    "SVMJaccardScore = jaccard_score(y_ftest, yhatSVM,pos_label='PAIDOFF')\n",
    "SVMJaccardScore"
   ]
  },
  {
   "cell_type": "code",
   "execution_count": 251,
   "metadata": {},
   "outputs": [
    {
     "data": {
      "text/plain": [
       "0.6212664277180406"
      ]
     },
     "execution_count": 251,
     "metadata": {},
     "output_type": "execute_result"
    }
   ],
   "source": [
    "# f1_score for SVM\n",
    "\n",
    "SVMF1Score = f1_score(y_ftest, yhatSVM, average='weighted')\n",
    "SVMF1Score"
   ]
  },
  {
   "cell_type": "code",
   "execution_count": 252,
   "metadata": {},
   "outputs": [
    {
     "data": {
      "text/plain": [
       "0.550531887159694"
      ]
     },
     "execution_count": 252,
     "metadata": {},
     "output_type": "execute_result"
    }
   ],
   "source": [
    "# log_loss for SVM\n",
    "\n",
    "SVM_probs = loanSVM.predict_proba(X_ftest)\n",
    "SVMlogloss = log_loss(y_ftest, SVM_probs)\n",
    "SVMlogloss "
   ]
  },
  {
   "cell_type": "markdown",
   "metadata": {},
   "source": [
    "#### 4) Logistic Regression"
   ]
  },
  {
   "cell_type": "code",
   "execution_count": 253,
   "metadata": {},
   "outputs": [],
   "source": [
    "# Let's make some predictions on the testing dataset and store it into a variable called yhatLR.\n",
    "\n",
    "yhatLR = LogReg.predict(X_ftest)"
   ]
  },
  {
   "cell_type": "code",
   "execution_count": 254,
   "metadata": {},
   "outputs": [
    {
     "name": "stdout",
     "output_type": "stream",
     "text": [
      "['PAIDOFF' 'PAIDOFF' 'PAIDOFF' 'PAIDOFF' 'PAIDOFF']\n",
      "['PAIDOFF' 'PAIDOFF' 'PAIDOFF' 'PAIDOFF' 'PAIDOFF']\n"
     ]
    }
   ],
   "source": [
    "# Visually compare the predictions to the actual values.\n",
    "\n",
    "print (yhatLR [0:5])\n",
    "print (y_ftest [0:5])"
   ]
  },
  {
   "cell_type": "markdown",
   "metadata": {},
   "source": [
    "Let's check the accuracy of this model"
   ]
  },
  {
   "cell_type": "code",
   "execution_count": 255,
   "metadata": {},
   "outputs": [
    {
     "data": {
      "text/plain": [
       "0.7407407407407407"
      ]
     },
     "execution_count": 255,
     "metadata": {},
     "output_type": "execute_result"
    }
   ],
   "source": [
    "# jaccard_score for logistic regression\n",
    "\n",
    "LRJaccardScore = jaccard_score(y_ftest, yhatLR, pos_label='PAIDOFF')\n",
    "LRJaccardScore"
   ]
  },
  {
   "cell_type": "code",
   "execution_count": 256,
   "metadata": {},
   "outputs": [
    {
     "data": {
      "text/plain": [
       "0.6304176516942475"
      ]
     },
     "execution_count": 256,
     "metadata": {},
     "output_type": "execute_result"
    }
   ],
   "source": [
    "# f1_score logistic regression\n",
    "\n",
    "LRF1Score = f1_score(y_ftest, yhatLR, average='weighted')\n",
    "LRF1Score"
   ]
  },
  {
   "cell_type": "code",
   "execution_count": 257,
   "metadata": {},
   "outputs": [
    {
     "data": {
      "text/plain": [
       "0.5153607380699173"
      ]
     },
     "execution_count": 257,
     "metadata": {},
     "output_type": "execute_result"
    }
   ],
   "source": [
    "# log_loss logistic regression\n",
    "\n",
    "loanLogReg_probs = LogReg.predict_proba(X_ftest)\n",
    "LRlogloss = log_loss(y_ftest, loanLogReg_probs)\n",
    "LRlogloss"
   ]
  },
  {
   "cell_type": "markdown",
   "metadata": {},
   "source": [
    "#### Performance comparison \n",
    "\n",
    "The table below shows the accuracy of the built models using different evaluation metrics\n",
    "\n",
    "|Algorithim         | Jaccard_score | F1_score | Logloss_score|\n",
    "|:-----------------:| :------------:| :-------:| :-----------:|\n",
    "|KNN\t            | 0.720         | 0.714    |\tNA        |\n",
    "|Decision Tree      |\t0.646       |\t0.689  |\t7.789     |\n",
    "|SVM                |\t0.722       |\t0.621  |\t0.551     |\n",
    "|Logistic Regression|\t0.741       |\t0.630  |\t0.515     |\n",
    "\n",
   ]
  },
  {
   "cell_type": "markdown",
   "metadata": {},
   "source": [
    "__Thanks__"
   ]
  }
 ],
 "metadata": {
  "kernelspec": {
   "display_name": "Python 3.8.1 ('Gerald_venv': venv)",
   "language": "python",
   "name": "python3"
  },
  "language_info": {
   "codemirror_mode": {
    "name": "ipython",
    "version": 3
   },
   "file_extension": ".py",
   "mimetype": "text/x-python",
   "name": "python",
   "nbconvert_exporter": "python",
   "pygments_lexer": "ipython3",
   "version": "3.8.1"
  },
  "orig_nbformat": 4,
  "vscode": {
   "interpreter": {
    "hash": "1f3aaba4ab6d847690ae0ab084a63b06bc0830a4bffc84aaa7a3fd444987a7f7"
   }
  }
 },
 "nbformat": 4,
 "nbformat_minor": 2
}
